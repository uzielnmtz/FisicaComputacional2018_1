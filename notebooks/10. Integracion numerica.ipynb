{
 "cells": [
  {
   "cell_type": "markdown",
   "metadata": {},
   "source": [
    "# Integración numérica (o \"cuadratura\")"
   ]
  },
  {
   "cell_type": "markdown",
   "metadata": {},
   "source": [
    "A menudo en la física, es necesario evaluar integrales feas. [La verdad es que ¡(casi) todas las integrales son feas!] Mientras que la diferenciación es un proceso que se puede llevar a cabo de manera algorítmica, siguiendo una receta, la integración no lo es: se puede demostrar que hay integrales que no se pueden llevar a cabo de forma analítica en términos de las funciones elementales. Un ejemplo famoso es la [función error](https://es.wikipedia.org/wiki/Funci%C3%B3n_error),\n",
    "\n",
    "$$\\mathrm{erf}(x) := \\frac{2}{\\sqrt{\\pi}}\\int_{0}^x e^{-t^2/2} \\, dt,$$\n",
    "\n",
    "que está relacionada cercanamente con la función de distribución acumulativa de la distribución gaussiana (o normal)."
   ]
  },
  {
   "cell_type": "markdown",
   "metadata": {},
   "source": [
    "Por lo tanto, necesitamos encontrar maneras de aproximar integrales definidas, de forma numérica.\n",
    "\n",
    "Recordemos que la integral \n",
    "\n",
    "$$I(f) = \\int_a^b f(x) \\, dx$$ \n",
    "\n",
    "representa el **área debajo de la curva $y=f(x)$ entre $x=a$ y $x=b$**. Por lo tanto, la integración numérica también se llama \"cuadratura numérica\". [Ver, por ejemplo, https://es.wikipedia.org/wiki/Cuadratura_del_c%C3%ADrculo.] \n",
    "\n",
    "Nota que la integral $I(f)$ es una función [de hecho, un \"funcional\"] **lineal** de $f$. Por lo tanto, buscaremos métodos numéricos con la misma propiedad. Siguiendo la pista que vimos en el notebook sobre la interpolación, pensaremos en evaluar la función $f$ en $N+1$ **nodos** $x_j$, y buscaremos **pesos** $\\alpha_i$ que den una aproximación a la integral de la forma\n",
    "\n",
    "$$Q(f) = \\sum_{i=0}^N \\alpha_j \\, f(x_j) \\qquad  (*)$$"
   ]
  },
  {
   "cell_type": "markdown",
   "metadata": {},
   "source": [
    "**[1]** Un caso particular es una $f$ que sea **monótona**, por ejemplo el integrando \n",
    "$f(x) = e^{-x^2/2}$ que aparece en la función $\\mathrm{erf}$.\n",
    "\n",
    "(i) La idea más natural [pero ¡no necesariamente mejor!] es dividir el intervalo $[0, x]$ en $N$ intervalos iguales de longitud $h=1/N$. Dada una $x$ y una $N$, dibuja la función, así como líneas verticales punteadas [con la opción `linestyle=:dash` en `Plots.jl`] en los nodos.\n",
    "Grafícalo.\n",
    "\n",
    "(ii) La idea más sencilla es aproximar la función $f$ en un intervalo dado con una recta horizontal. \n",
    "¿Cómo podríamos calcular tanto una cota inferior como una cota superior, suponiendo que $f$ es monótona? Exprésalos en la forma de la ecuación (*). Grafícalos. [Recuerda que se grafica una línea continua con el comando `plot`, alimentándole con las coordenadas $x$ y $y$ de los puntos que se unen con rectas.]\n",
    "\n",
    "Escribe una función que calcule estas áreas dadas $f$ (monótona), $a$, $b$ y $N$.\n",
    "\n",
    "(iii) ¿Cuál es la tasa de convergencia hacia el resultado exacto cuando $N \\to \\infty$ para $a = 0$ y $b = x$ con $f(x) = e^{-x^2/2}$, para una $x$ fija? [Pista: La función $\\mathrm{erf}$ en Julia se llama... `erf`. En Julia v0.6, se encuentra en el paquete `SpecialFunctions.jl`.]"
   ]
  },
  {
   "cell_type": "markdown",
   "metadata": {},
   "source": [
    "**[2]** (i) Después de una recta horizontal, ¿cuál es la siguiente forma más natural de aproximar a la función $f$ adentro de un intervalo dado? ¿A qué aproximación de la integral lleva, expresada en la forma de la ecuación (*)? Grafícalo.\n",
    "\n",
    "(ii) Impleméntalo. Nota que este método funciona para *cualquier* función $f$, sin que tenga que ser monótona. \n",
    "\n",
    "(iii) ¿Cuál es la tasa de convergencia? ¿Cómo se compara con el método de la pregunta [1]?"
   ]
  },
  {
   "cell_type": "markdown",
   "metadata": {},
   "source": [
    "**[3]** (i) Utiliza el cambio de variables $x = t / (1 - t^2)$ para escribir la integral $I := \\int_{-\\infty}^{\\infty} f(x) \\, dx$ como una integral sobre un dominio finito. [Parecerá algo complicado el resultado.]\n",
    "\n",
    "(ii) Así, calcula $I$ numéricamente. Compáralo con el resultado exacto conocido. \n",
    "\n",
    "(iii) ¿Qué pasa si cambiamos el número $N$ de puntos en la interpolación?"
   ]
  },
  {
   "cell_type": "markdown",
   "metadata": {},
   "source": [
    "**[4]** Lo que estamos haciendo es aproximar la función $f$ en cada sub-intervalo. La siguiente aproximación es una cuadrática, que da una regla llamada el **método de Simpson**.\n",
    "\n",
    "(i) Utiliza el método de interpolación de Lagrange para encontrar una expresión analítica para un polinomio que interpola la función $f$ en tres puntos: $x_i$, $x_{i+1}$, y el punto medio $m$ entre $x_i$ y $x_{i+1}$.\n",
    "\n",
    "(ii) Integra este polinomio para encontrar $\\int_{x_i}^{x_{i+1}} f(t) \\, dt$. \n",
    "\n",
    "(iii) Así, encuentra una aproximación para $\\int_{a}^{b} f(t) \\, dt$.\n",
    "\n",
    "(iv) Encuentra numéricamente la tasa de convergencia del método."
   ]
  },
  {
   "cell_type": "markdown",
   "metadata": {},
   "source": [
    "**[5]** Podemos extender la idea de utilizar la interpolación como sigue. Nos restringimos al caso más sencillo del intervalo $[-1, 1]$.\n",
    "\n",
    "- Dada una función $f$ que integrar, muestreamos $f$ en $N$ puntos de Chebyshev $x_i$, para obtener los pares $(x_i, y_i)$.\n",
    "\n",
    "- Interpolamos un polinomio $p$ en los puntos resultantes.\n",
    "\n",
    "- Integramos el polinomio.\n",
    "\n",
    "(i) Implementa esto.\n",
    "\n",
    "(ii) Aplícalo a distintas integrales y calcula la tasa de convergencia hacia el resultado exacto si es que éste se conoce."
   ]
  }
 ],
 "metadata": {
  "kernelspec": {
   "display_name": "Julia 0.5.2",
   "language": "julia",
   "name": "julia-0.5"
  },
  "language_info": {
   "file_extension": ".jl",
   "mimetype": "application/julia",
   "name": "julia",
   "version": "0.5.2"
  },
  "toc": {
   "colors": {
    "hover_highlight": "#DAA520",
    "running_highlight": "#FF0000",
    "selected_highlight": "#FFD700"
   },
   "moveMenuLeft": true,
   "nav_menu": {
    "height": "30px",
    "width": "252px"
   },
   "navigate_menu": true,
   "number_sections": true,
   "sideBar": true,
   "threshold": "1",
   "toc_cell": false,
   "toc_section_display": "block",
   "toc_window_display": false
  }
 },
 "nbformat": 4,
 "nbformat_minor": 1
}
