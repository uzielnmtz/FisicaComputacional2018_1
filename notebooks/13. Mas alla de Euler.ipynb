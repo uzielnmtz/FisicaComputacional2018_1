{
 "cells": [
  {
   "cell_type": "markdown",
   "metadata": {},
   "source": [
    "# Euler fracasa: sistemas con una ley de conservación"
   ]
  },
  {
   "cell_type": "markdown",
   "metadata": {},
   "source": [
    "El método de Euler para integrar EDOs parece sencillo y útil, pero resulta que ¡*casi siempre fracasa*!, no sólo cuantitativamente, sino también cualitativamente.\n",
    "\n",
    "Por ejemplo, consideremos la ecuación del péndulo para ángulos pequeños, o sea, un oscilador armónico simple."
   ]
  },
  {
   "cell_type": "markdown",
   "metadata": {},
   "source": [
    "**[1]** (i) Escribe la ecuación de movimiento del oscilador armónico simple, en términos del ángulo $\\theta$ del péndulo desde el vertical, y la velocidad angular $\\omega$.\n",
    "\n",
    "(ii) Utiliza tu código del notebook anterior para integrar las ecuaciones desde distintas condiciones iniciales, y dibuja varias trayectorias en el espacio fase $(\\theta, \\omega)$ en una sola gráfica. [¡Utiliza un bucle `for` sobre las condiciones iniciales para hacerlo!] ¿Tiene sentido físico el resultado?\n",
    "\n",
    "(iii) Recuerda que este sistema físico tiene una propiedad especial: existe una **ley de conservación**. ¿Cuál es la cantidad física que se conserva? Escríbela en términos de $\\theta$ y $\\omega$\n",
    "\n",
    "(iv) Dado que se conserva esta cantidad a lo largo de la evolución temporal, desde una condición inicial que tiene un valor dado de esta cantidad conservada, la trayectoria debe mantenerse en una **curva de nivel** de esta cantidad, es decir, una curva en el espacio fase, sobre la cual esta cantidad se mantiene constante.\n",
    "\n",
    "Utiliza la función `contour` de `Plots.jl` para dibujar curvas de nivel, y compáralos gráficamente con las trayectorias que da Euler. ¿Qué observas?\n",
    "\n",
    "(v) Calcula cómo varía la cantidad \"conservada\" a lo largo de una trayectoria calculada con Euler."
   ]
  },
  {
   "cell_type": "code",
   "execution_count": null,
   "metadata": {
    "collapsed": true
   },
   "outputs": [],
   "source": []
  },
  {
   "cell_type": "markdown",
   "metadata": {},
   "source": [
    "# El método de Euler-Cromer"
   ]
  },
  {
   "cell_type": "markdown",
   "metadata": {},
   "source": [
    "Un cambio aparentemente insignificativo al método numérico puede dar resultados mucho mejores para ciertas clases de sistema.\n",
    "En el llamado método de Euler-Cromer, actualizamos\n",
    "*primero* la velocidad, y utilizamos esta *nueva* velocidad para actualizar la posición. (Recordemes que en el Euler clásico, las dos variables se actualizan utilizando los valores *anteriores*.)"
   ]
  },
  {
   "cell_type": "markdown",
   "metadata": {},
   "source": [
    "**[2]** (i) Aplica el método de Euler-Cromer al oscilador armónico. Dibuja trayectorias desde varios puntos iniciales en un solo plano fase.\n",
    "\n",
    "(ii) Encuentra la tasa de convergencia de Euler-Cromer a la solución exacta cuando el tamaño $h$ de un paso converge a $0$, y compáralo con la de Euler."
   ]
  },
  {
   "cell_type": "code",
   "execution_count": null,
   "metadata": {
    "collapsed": true
   },
   "outputs": [],
   "source": []
  },
  {
   "cell_type": "markdown",
   "metadata": {},
   "source": [
    "**[3]** (i) Aplica Euler-Cromer al péndulo simple [ojo: ¡el péndulo simple *no es* el oscilador armónico!] y dibuja el espacio fase completo. Para hacer esto, escoge distintas condiciones iniciales (posición y velocidad/momento) e integra tanto para adelante como para atrás en el tiempo. \n",
    "\n",
    "\n",
    "(ii) Este sistema también tiene una cantidad conservada. ¿Cuál es? Compara las trayectorias integradas con Euler-Cromer con las que resultan de usar la cantidad conservada para este sistema."
   ]
  },
  {
   "cell_type": "code",
   "execution_count": null,
   "metadata": {
    "collapsed": true
   },
   "outputs": [],
   "source": []
  },
  {
   "cell_type": "markdown",
   "metadata": {},
   "source": [
    "# El método de Euler implícito"
   ]
  },
  {
   "cell_type": "markdown",
   "metadata": {},
   "source": [
    "Consideremos otro punto de vista de los métodos numéricos para las EDOs: al integrar los dos lados de la EDO\n",
    "\n",
    "$$\\dot{x}(t) = f(x(t), t)$$\n",
    "\n",
    "con respecto al tiempo para $t$ entre $t_0$ y $t_0+h$, obtenemos\n",
    "\n",
    "$$x(t_0+h) - x(t_0) = \\int_{t_0}^{t_0+h} f(x(t'), t') \\, dt'.$$\n",
    "\n",
    "Por lo tanto, podemos aplicar los métodos numéricos para calcular integrales definidas que ya vimos a este problema."
   ]
  },
  {
   "cell_type": "markdown",
   "metadata": {},
   "source": [
    "**[4]** (i) ¿A cuál método de integración numérica corresponde el método de Euler? - es decir, ¿cómo se aproxima la función $f$ dentro de la integral?\n",
    "\n",
    "(ii) Supón (por simplicidad) que $f$ no depende explícitamente de $t$ y aplica (analíticamente) el método del trapecio a la integral para encontrar una ecuación que satisface $x(t_0 + h)$. "
   ]
  },
  {
   "cell_type": "markdown",
   "metadata": {},
   "source": [
    "La ecuación resultante es una ecuación *implícita*.\n",
    "\n",
    "(iii) ¿Cuál método numérico podemos aplicar para resolver esta ecuación?\n",
    "\n",
    "(iv) Implementa esto y pruébalo. Compara los resultados con los del método de Euler."
   ]
  },
  {
   "cell_type": "code",
   "execution_count": null,
   "metadata": {
    "collapsed": true
   },
   "outputs": [],
   "source": []
  }
 ],
 "metadata": {
  "kernelspec": {
   "display_name": "Julia 0.6.0",
   "language": "julia",
   "name": "julia-0.6"
  },
  "language_info": {
   "file_extension": ".jl",
   "mimetype": "application/julia",
   "name": "julia",
   "version": "0.6.0"
  },
  "toc": {
   "colors": {
    "hover_highlight": "#DAA520",
    "running_highlight": "#FF0000",
    "selected_highlight": "#FFD700"
   },
   "moveMenuLeft": true,
   "nav_menu": {
    "height": "66px",
    "width": "252px"
   },
   "navigate_menu": true,
   "number_sections": true,
   "sideBar": true,
   "threshold": "2",
   "toc_cell": false,
   "toc_section_display": "block",
   "toc_window_display": false
  }
 },
 "nbformat": 4,
 "nbformat_minor": 1
}
