{
 "cells": [
  {
   "cell_type": "markdown",
   "metadata": {},
   "source": [
    "Esta última tarea se trata de usar todo lo que hemos aprendido en el curso para resolver problemas físicos, por lo que los problemas esta vez no tendrán un orden real. Sólo tendrás que resolver uno de los problemas por tema y el problema final!!\n",
    "\n",
    "## Problema de mecánica clásica: \n",
    "\n",
    "[i] Escribe las ecuaciones de movimiento un péndulo doble. \n",
    "\n",
    "[ii] Resuelve para obtener las posiciones de las masas (ambas masas iguales) como función del tiempo. \n",
    "\n",
    "[iii] Haz animaciones (del péndulo) para diferentes proporciones de largos de los péndulos. "
   ]
  },
  {
   "cell_type": "markdown",
   "metadata": {},
   "source": [
    "## Problema de electromagnetismo: \n",
    "\n",
    "[i] Resuelve el modelo de Morris y Lecar para la corriente y voltaje en una neurona. Resolverlo equivale a resolver el siguiente sistema de ecuaciones: \n",
    "\n",
    "$$\n",
    "\\begin{align}\n",
    "  C \\frac{dV}{dt} & ~=~ I - g_\\mathrm{L} (V-V_\\mathrm{L}) - g_\\mathrm{Ca} M_\\mathrm{ss} (V-V_\\mathrm{Ca}) - g_\\mathrm{K} N (V-V_\\mathrm{K}) \\\\[5pt]\n",
    "  \\frac{dN}{dt} & ~=~ \\frac{N_\\mathrm{ss}-N}{\\tau_N}\n",
    "\\end{align}\n",
    "$$\n",
    "\n",
    "Donde \n",
    "\n",
    "$M_{ss} = (1 + \\tanh[(V-V_1)/V_2])/2 $ \n",
    "\n",
    "$N_{ss} = (1 + \\tanh[(V-V_3)/V_4])/2$ \n",
    "\n",
    "$\\tau_N = 1/[\\varphi \\cosh[(V-V_3)/(2V_4)]$\n",
    " \n",
    "$V$ es el voltaje y $N$ es la probabilidad de que el canal de iones de potacio en la neurona conduzca. I es la corriente que se inyecta a la neurona. Todo lo demás son constantes. \n",
    "\n",
    "[ii] Haz una animación donde grafiques V como función del tiempo para diversas valores de I. (juega un poco con los valores del resto de parámetros). \n"
   ]
  },
  {
   "cell_type": "code",
   "execution_count": 1,
   "metadata": {},
   "outputs": [
    {
     "data": {
      "text/html": [
       "<div id=\"interact-js-shim\">\n",
       "    <script charset=\"utf-8\">\n",
       "(function (IPython, $, _, MathJax) {\n",
       "    $.event.special.destroyed = {\n",
       "\tremove: function(o) {\n",
       "\t    if (o.handler) {\n",
       "\t\to.handler.apply(this, arguments)\n",
       "\t    }\n",
       "\t}\n",
       "    }\n",
       "\n",
       "    var OutputArea = IPython.version >= \"4.0.0\" ? require(\"notebook/js/outputarea\").OutputArea : IPython.OutputArea;\n",
       "\n",
       "    var redrawValue = function (container, type, val) {\n",
       "\tvar selector = $(\"<div/>\");\n",
       "\tvar oa = new OutputArea(_.extend(selector, {\n",
       "\t    selector: selector,\n",
       "\t    prompt_area: true,\n",
       "\t    events: IPython.events,\n",
       "\t    keyboard_manager: IPython.keyboard_manager\n",
       "\t})); // Hack to work with IPython 2.1.0\n",
       "\n",
       "\tswitch (type) {\n",
       "\tcase \"image/png\":\n",
       "            var _src = 'data:' + type + ';base64,' + val;\n",
       "\t    $(container).find(\"img\").attr('src', _src);\n",
       "\t    break;\n",
       "\tcase \"text/latex\":\n",
       "\t\tif (MathJax){\n",
       "\t\t\tvar math = MathJax.Hub.getAllJax(container)[0];\n",
       "\t\t\tMathJax.Hub.Queue([\"Text\", math, val.replace(/^\\${1,2}|\\${1,2}$/g, '')]);\n",
       "\t\t\tbreak;\n",
       "\t\t}\n",
       "\tdefault:\n",
       "\t    var toinsert = OutputArea.append_map[type].apply(\n",
       "\t\toa, [val, {}, selector]\n",
       "\t    );\n",
       "\t    $(container).empty().append(toinsert.contents());\n",
       "\t    selector.remove();\n",
       "\t}\n",
       "    }\n",
       "\n",
       "\n",
       "    $(document).ready(function() {\n",
       "\tfunction initComm(evt, data) {\n",
       "\t    var comm_manager = data.kernel.comm_manager;\n",
       "        //_.extend(comm_manager.targets, require(\"widgets/js/widget\"))\n",
       "\t    comm_manager.register_target(\"Signal\", function (comm) {\n",
       "            comm.on_msg(function (msg) {\n",
       "                var val = msg.content.data.value;\n",
       "                $(\".signal-\" + comm.comm_id).each(function() {\n",
       "                var type = $(this).data(\"type\");\n",
       "                if (typeof(val[type]) !== \"undefined\" && val[type] !== null) {\n",
       "                    redrawValue(this, type, val[type], type);\n",
       "                }\n",
       "                });\n",
       "                delete val;\n",
       "                delete msg.content.data.value;\n",
       "            });\n",
       "\t    });\n",
       "\n",
       "\t    // coordingate with Comm and redraw Signals\n",
       "\t    // XXX: Test using Reactive here to improve performance\n",
       "\t    $([IPython.events]).on(\n",
       "\t\t'output_appended.OutputArea', function (event, type, value, md, toinsert) {\n",
       "\t\t    if (md && md.reactive) {\n",
       "                // console.log(md.comm_id);\n",
       "                toinsert.addClass(\"signal-\" + md.comm_id);\n",
       "                toinsert.data(\"type\", type);\n",
       "                // Signal back indicating the mimetype required\n",
       "                var comm_manager = IPython.notebook.kernel.comm_manager;\n",
       "                var comm = comm_manager.comms[md.comm_id];\n",
       "                comm.then(function (c) {\n",
       "                    c.send({action: \"subscribe_mime\",\n",
       "                       mime: type});\n",
       "                    toinsert.bind(\"destroyed\", function() {\n",
       "                        c.send({action: \"unsubscribe_mime\",\n",
       "                               mime: type});\n",
       "                    });\n",
       "                })\n",
       "\t\t    }\n",
       "\t    });\n",
       "\t}\n",
       "\n",
       "\ttry {\n",
       "\t    // try to initialize right away. otherwise, wait on the status_started event.\n",
       "\t    initComm(undefined, IPython.notebook);\n",
       "\t} catch (e) {\n",
       "\t    $([IPython.events]).on('kernel_created.Kernel kernel_created.Session', initComm);\n",
       "\t}\n",
       "    });\n",
       "})(IPython, jQuery, _, MathJax);\n",
       "</script>\n",
       "    <script>\n",
       "        window.interactLoadedFlag = true\n",
       "       $(\"#interact-js-shim\").bind(\"destroyed\", function () {\n",
       "           if (window.interactLoadedFlag) {\n",
       "               console.warn(\"JavaScript required by Interact will be removed if you remove this cell or run using Interact more than once.\")\n",
       "           }\n",
       "       })\n",
       "       $([IPython.events]).on(\"kernel_starting.Kernel kernel_restarting.Kernel\", function () { window.interactLoadedFlag = false })\n",
       "   </script>\n",
       "</div>"
      ]
     },
     "metadata": {},
     "output_type": "display_data"
    }
   ],
   "source": [
    "using Plots\n",
    "using Interact "
   ]
  },
  {
   "cell_type": "code",
   "execution_count": 2,
   "metadata": {},
   "outputs": [
    {
     "data": {
      "text/plain": [
       "runge_4_vectorial (generic function with 2 methods)"
      ]
     },
     "execution_count": 2,
     "metadata": {},
     "output_type": "execute_result"
    }
   ],
   "source": [
    "# Runge Kutta vectorial\n",
    "\n",
    "function paso_runge_kutta(f, h, t0, x0)\n",
    "    k1 = f(x0, t0)\n",
    "    k2 = f(x0 + (h/2)*k1, t0 + h/2)\n",
    "    k3 = f(x0 + (h/2)*k2, t0 + h/2)\n",
    "    k4 = f(x0 + h*k3, t0 + h)\n",
    "    return (x0 + (h/6)*(k1 + 2k2 + 2k3 + k4))\n",
    "end\n",
    "\n",
    "\n",
    "function runge_4_vectorial(f, t0, x0, h=0.01; tn=100)\n",
    "    ts = 0:h:tn\n",
    "    m_dim = length(x0)\n",
    "    n_dim = length(ts)\n",
    "    xs = zeros((m_dim, n_dim))\n",
    "    xs[:, 1] = x0\n",
    "    for i in 1:length(ts)-1\n",
    "        xs[:, i+1] = paso_runge_kutta(f, h, ts[i], xs[:, i])\n",
    "    end\n",
    "    return ts, xs\n",
    "end"
   ]
  },
  {
   "cell_type": "code",
   "execution_count": 3,
   "metadata": {},
   "outputs": [
    {
     "data": {
      "text/plain": [
       "morris_lecar (generic function with 13 methods)"
      ]
     },
     "execution_count": 3,
     "metadata": {},
     "output_type": "execute_result"
    }
   ],
   "source": [
    "function morris_lecar(I, gl=2e-3, gca=4.4e-3, gk=8e-3, Vl=-60e-3, Vk=-80e-3, Vca=120e-3, V1=-1.2e-3, V2=18e-3, V3=12e-3, V4=17.4e-3, C=30e-6, ϕ=1/15)\n",
    "    Mss(V) = (1 + tanh((V - V1) / V2)) / 2.\n",
    "    Nss(V) = (1 + tanh((V - V3) / V4)) / 2.\n",
    "    τN(V) = 1 / (ϕ * cosh((V - V3) / 2*V4))\n",
    "    sistema(x, t) = [(I - (gl * (x[1] - Vl)) - (gca * Mss(x[1]) * (x[1] - Vca)) - (gk * x[2] * (x[1] - Vk))) / C; (Nss(x[1]) - x[2]) / τN(x[1])]\n",
    "    t0 = 0\n",
    "    x0 = [0; 0]\n",
    "    t, sols = runge_4_vectorial(sistema, t0, x0)\n",
    "    return t, sols\n",
    "end"
   ]
  },
  {
   "cell_type": "code",
   "execution_count": 4,
   "metadata": {},
   "outputs": [
    {
     "data": {
      "text/plain": [
       "(0.0:0.01:100.0, [0.0 0.0606799 … 0.0155564 0.0155199; 0.0 0.000552202 … 0.388178 0.388319])"
      ]
     },
     "execution_count": 4,
     "metadata": {},
     "output_type": "execute_result"
    }
   ],
   "source": [
    "t, sols = morris_lecar(50e-6)"
   ]
  },
  {
   "cell_type": "code",
   "execution_count": 5,
   "metadata": {},
   "outputs": [
    {
     "name": "stderr",
     "output_type": "stream",
     "text": [
      "\u001b[1m\u001b[36mINFO: \u001b[39m\u001b[22m\u001b[36mSaved animation to /Users/uzielnmtz/FisicaComputacional2018_1/notebooks/morris_lecar.gif\n",
      "\u001b[39m"
     ]
    },
    {
     "data": {
      "text/html": [
       "<img src=\"morris_lecar.gif?0.03471939636516219>\" />"
      ],
      "text/plain": [
       "Plots.AnimatedGif(\"/Users/uzielnmtz/FisicaComputacional2018_1/notebooks/morris_lecar.gif\")"
      ]
     },
     "execution_count": 5,
     "metadata": {},
     "output_type": "execute_result"
    }
   ],
   "source": [
    "anim = @animate for I = 0:1e-6:120e-6\n",
    "    t, sols = morris_lecar(I)\n",
    "    plot(t, sols[1, :] / 1e-3, ylims=(-80, 80), ylabel=\"Voltaje\", xlabel=\"Tiempo\")\n",
    "    end \n",
    "\n",
    "gif(anim, \"morris_lecar.gif\", fps=30)"
   ]
  },
  {
   "cell_type": "markdown",
   "metadata": {},
   "source": [
    "Los parámetros empleados en el modelo se obtuvieron de: \n",
    "\n",
    "Tsumoto, Kunichika; Kitajimab, Hiroyuki; Yoshinagac, Tetsuya; Aiharad, Kazuyuki; Kawakamif, Hiroshi (January 2006), \"Bifurcations in Morris–Lecar neuron model\", Neurocomputing (in English and Japanese), 69 (4–6): 293–316, doi:10.1016/j.neucom.2005.03.006"
   ]
  },
  {
   "cell_type": "markdown",
   "metadata": {},
   "source": [
    "## Problema de mecánica cuántica: \n",
    "\n",
    "En este problema resolverás la ecuación de Schödinger usando el algorithmo de Numerov para un potencial arbitrario. \n",
    "\n",
    "[i] Escribe la ecuación de Schödinger en una dimensión para un potencial arbitrario en la forma: $\\frac{d^2 y}{dx^2} = - g(x) y(x) + s(x) $\n",
    "\n",
    "[ii] El método de Numerov implica que esta ecuación tiene las 3 soluciones $y_{n-1}, y_n, y_{n+1} $ tomando 3 puntos equidistantes $ x_{n-1}, x_n, x_{n+1} $ que están relacionados como sigue: \n",
    "\n",
    "$y_{n+1} \\left(1 + \\frac{h^2}{12} g_{n+1} \\right) = 2 y_n \\left(1 - \\frac{5 h^2}{12} g_n \\right) - y_{n-1} \\left(1 + \\frac{h^2}{12} g_{n-1} \\right) + \\frac{h^2}{12} (s_{n+1} + 10 s_n + s_{n-1}) + \\mathcal{O} (h^6) $\n",
    "\n",
    "Utiliza esto para hacer un algoritmo que resuelva tu ecuación. \n",
    "\n",
    "[ii] Resuelve la ecuación de Schödingar para un potencial harmónico y comprueba que tu solución coincide con la solución analítica. \n"
   ]
  },
  {
   "cell_type": "markdown",
   "metadata": {},
   "source": [
    "## Problema de física estadística: \n",
    "\n",
    "[i] Haz una malla cuadrada 2D de nxn. \n",
    "\n",
    "[ii] Resuelve el modelo de Ising esa maya con campo magnético uniforme usando el algoritmo de metrópolis. Es decir, haz una animación de cómo evoluciona el sistema a diferentes temperaturas partiendo de un arreglo desordenado (dibuja cuadros negros cuando el spin sea negativo y blancos cuando sea positivo, o similar)."
   ]
  },
  {
   "cell_type": "markdown",
   "metadata": {},
   "source": [
    "# EL PROBLEMA FINAL: \n",
    "\n",
    "En este punto del curso ya debes tener muy buena idea de qué clase de cosas te llaman más la atención a resolver dentro de la física computacional. \n",
    "\n",
    "El problema final de este curso debería entonces ser trivial para ti. \n",
    "\n",
    "No requerrirá hacer NADA de talacha, pero sí requiere que te tomes algo de tiempo pensando y también investigando. \n",
    "\n",
    "Para evitar que simplemente vayas al final y veas qué es este problema final, no pondré corchetes para anunciarlo. Estará en medio del texto. Leelo con atención. \n",
    "\n",
    "En principio ya sabes obtener derivadas, gradientes, integrales, y cualquier operador de cálculo de forma numérica e incluso (usando SymPy) de forma analítica-computacional. Aprendiste a hacer interpolación. Sabes también resolver sistemas de ecuaciones algebráicas lineales. También sabes resolver sistemas de ecuaciones no lineales mediante el método de Newton y el del valor intermedio. Sabes resolver ecuaciones diferenciales en una y varias variables. Aprendiste un poco de ecuaciones diferenciales parciales (ecuación de calor). También aprendiste qué significan condiciones periódicas a la frontera y reflectivas. Aprendiste a resolver problemas de física estadística con métodos de Monte-Carlo. Aprendiste un poco de dinámica Browniana si es que hiciste la práctica. Además aprendiste a graficar bonito, a hacer animaciones y códigos interactivos. Sin embargo, hay aún un sin fin de métodos más que podrías aprender. Por ejemplo, no vimos algoritmos de Monte-Carlo más complejos como el de Wang-Landau, y nos faltó mucho sobre solución a problemas cuánticos(apenas ahora es un problema de la tarea. Tampoco vimos como hacer análisis de caoticidad. Ahora, como último problema tienes que decir qué proyecto final harás y cómo pretendes resolverlo. Este puede ser desarrollár algo de lo que no vimos y resolver algún problema con ello, o resolver un problema complejo con los algoritmos que vimos. Así que a pensar, investigar y preguntar alos profesores sobre la viabilidad del proyecto. Este problema vale la mitad de la tarea. "
   ]
  }
 ],
 "metadata": {
  "kernelspec": {
   "display_name": "Julia 0.6.0",
   "language": "julia",
   "name": "julia-0.6"
  },
  "language_info": {
   "file_extension": ".jl",
   "mimetype": "application/julia",
   "name": "julia",
   "version": "0.6.0"
  }
 },
 "nbformat": 4,
 "nbformat_minor": 1
}
