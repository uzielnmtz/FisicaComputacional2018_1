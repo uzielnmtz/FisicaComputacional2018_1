{
 "cells": [
  {
   "cell_type": "markdown",
   "metadata": {},
   "source": [
    "Esta última tarea se trata de usar todo lo que hemos aprendido en el curso para resolver problemas físicos, por lo que los problemas esta vez no tendrán un orden real. Sólo tendrás que resolver uno de los problemas por tema y el problema final!!\n",
    "\n",
    "## Problema de mecánica clásica: \n",
    "\n",
    "[i] Escribe las ecuaciones de movimiento un péndulo doble. \n",
    "\n",
    "[ii] Resuelve para obtener las posiciones de las masas (ambas masas iguales) como función del tiempo. \n",
    "\n",
    "[iii] Haz animaciones (del péndulo) para diferentes proporciones de largos de los péndulos. "
   ]
  },
  {
   "cell_type": "markdown",
   "metadata": {},
   "source": [
    "## Problema de electromagnetismo: \n",
    "\n",
    "[i] Resuelve el modelo de Morris y Lecar para la corriente y voltaje en una neurona. Resolverlo equivale a resolver el siguiente sistema de ecuaciones: \n",
    "\n",
    "$$\n",
    "\\begin{align}\n",
    "  C \\frac{dV}{dt} & ~=~ I - g_\\mathrm{L} (V-V_\\mathrm{L}) - g_\\mathrm{Ca} M_\\mathrm{ss} (V-V_\\mathrm{Ca}) - g_\\mathrm{K} N (V-V_\\mathrm{K}) \\\\[5pt]\n",
    "  \\frac{dN}{dt} & ~=~ \\frac{N_\\mathrm{ss}-N}{\\tau_N}\n",
    "\\end{align}\n",
    "$$\n",
    "\n",
    "Donde \n",
    "\n",
    "$M_{ss} = (1 + \\tanh[(V-V_1)/V_2])/2 $ \n",
    "\n",
    "$N_{ss} = (1 + \\tanh[(V-V_3)/V_4])/2$ \n",
    "\n",
    "$\\tau_N = 1/[\\varphi \\cosh[(V-V_3)/(2V_4)]$\n",
    " \n",
    "$V$ es el voltaje y $N$ es la probabilidad de que el canal de iones de potacio en la neurona conduzca. I es la corriente que se inyecta a la neurona. Todo lo demás son constantes. \n",
    "\n",
    "[ii] Haz una animación donde grafiques V como función del tiempo para diversas valores de I. (juega un poco con los valores del resto de parámetros). \n"
   ]
  },
  {
   "cell_type": "markdown",
   "metadata": {},
   "source": [
    "## Problema de mecánica cuántica: \n",
    "\n",
    "En este problema resolverás la ecuación de Schödinger usando el algorithmo de Numerov para un potencial arbitrario. \n",
    "\n",
    "[i] Escribe la ecuación de Schödinger en una dimensión para un potencial arbitrario en la forma: $\\frac{d^2 y}{dx^2} = - g(x) y(x) + s(x) $\n",
    "\n",
    "[ii] El método de Numerov implica que esta ecuación tiene las 3 soluciones $y_{n-1}, y_n, y_{n+1} $ tomando 3 puntos equidistantes $ x_{n-1}, x_n, x_{n+1} $ que están relacionados como sigue: \n",
    "\n",
    "$y_{n+1} \\left(1 + \\frac{h^2}{12} g_{n+1} \\right) = 2 y_n \\left(1 - \\frac{5 h^2}{12} g_n \\right) - y_{n-1} \\left(1 + \\frac{h^2}{12} g_{n-1} \\right) + \\frac{h^2}{12} (s_{n+1} + 10 s_n + s_{n-1}) + \\mathcal{O} (h^6) $\n",
    "\n",
    "Utiliza esto para hacer un algoritmo que resuelva tu ecuación. \n",
    "\n",
    "[ii] Resuelve la ecuación de Schödingar para un potencial harmónico y comprueba que tu solución coincide con la solución analítica. \n"
   ]
  },
  {
   "cell_type": "markdown",
   "metadata": {},
   "source": [
    "## Problema de física estadística: \n",
    "\n",
    "[i] Haz una malla cuadrada 2D de nxn. \n",
    "\n",
    "[ii] Resuelve el modelo de Ising esa maya con campo magnético uniforme usando el algoritmo de metrópolis. Es decir, haz una animación de cómo evoluciona el sistema a diferentes temperaturas partiendo de un arreglo desordenado (dibuja cuadros negros cuando el spin sea negativo y blancos cuando sea positivo, o similar)."
   ]
  },
  {
   "cell_type": "markdown",
   "metadata": {},
   "source": [
    "# EL PROBLEMA FINAL: \n",
    "\n",
    "En este punto del curso ya debes tener muy buena idea de qué clase de cosas te llaman más la atención a resolver dentro de la física computacional. \n",
    "\n",
    "El problema final de este curso debería entonces ser trivial para ti. \n",
    "\n",
    "No requerrirá hacer NADA de talacha, pero sí requiere que te tomes algo de tiempo pensando y también investigando. \n",
    "\n",
    "Para evitar que simplemente vayas al final y veas qué es este problema final, no pondré corchetes para anunciarlo. Estará en medio del texto. Leelo con atención. \n",
    "\n",
    "En principio ya sabes obtener derivadas, gradientes, integrales, y cualquier operador de cálculo de forma numérica e incluso (usando SymPy) de forma analítica-computacional. Aprendiste a hacer interpolación. Sabes también resolver sistemas de ecuaciones algebráicas lineales. También sabes resolver sistemas de ecuaciones no lineales mediante el método de Newton y el del valor intermedio. Sabes resolver ecuaciones diferenciales en una y varias variables. Aprendiste un poco de ecuaciones diferenciales parciales (ecuación de calor). También aprendiste qué significan condiciones periódicas a la frontera y reflectivas. Aprendiste a resolver problemas de física estadística con métodos de Monte-Carlo. Aprendiste un poco de dinámica Browniana si es que hiciste la práctica. Además aprendiste a graficar bonito, a hacer animaciones y códigos interactivos. Sin embargo, hay aún un sin fin de métodos más que podrías aprender. Por ejemplo, no vimos algoritmos de Monte-Carlo más complejos como el de Wang-Landau, y nos faltó mucho sobre solución a problemas cuánticos(apenas ahora es un problema de la tarea. Tampoco vimos como hacer análisis de caoticidad. Ahora, como último problema tienes que decir qué proyecto final harás y cómo pretendes resolverlo. Este puede ser desarrollár algo de lo que no vimos y resolver algún problema con ello, o resolver un problema complejo con los algoritmos que vimos. Así que a pensar, investigar y preguntar alos profesores sobre la viabilidad del proyecto. Este problema vale la mitad de la tarea. "
   ]
  }
 ],
 "metadata": {
  "kernelspec": {
   "display_name": "Julia 0.6.1",
   "language": "julia",
   "name": "julia-0.6"
  },
  "language_info": {
   "file_extension": ".jl",
   "mimetype": "application/julia",
   "name": "julia",
   "version": "0.6.1"
  }
 },
 "nbformat": 4,
 "nbformat_minor": 1
}
