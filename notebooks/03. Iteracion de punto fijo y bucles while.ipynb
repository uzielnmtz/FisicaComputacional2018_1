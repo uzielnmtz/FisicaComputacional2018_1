{
 "cells": [
  {
   "cell_type": "markdown",
   "metadata": {},
   "source": [
    "# ¿Qué es un algoritmo?"
   ]
  },
  {
   "cell_type": "markdown",
   "metadata": {},
   "source": [
    "En este notebook, empezaremos nuestro estudio de algoritmos computacionales."
   ]
  },
  {
   "cell_type": "markdown",
   "metadata": {},
   "source": [
    "Un **algoritmo** es una \"receta\" computacional, que consiste en una serie de instrucciones para que la computadora lleve a cabo un cálculo dado. Gran parte del curso consistirá en desarrollar algoritmos para calcular, de forma numérica, distintas cantidades en la física, a partir de algún modelo matemático. El campo que se ocupa de diseñar y estudiar estos algoritmos es el **análisis numérico**. Su aplicación a problemas de física se puede decir que constituye la **física computacional**.\n",
    "\n",
    "Algunos algoritmos (por ejemplo, la eliminación gaussiana que veremos más adelante) proveen una manera de llevar a cabo un cálculo de manera \"exacta\" (dentro de las restricciones impuestas por el uso de números con precisión finita) en un número finito de pasos.\n",
    "\n",
    "Sin embargo, en general, no podemos esperar que haya una fórmula analítica cerrada para calcular las cantidades de interés de manera exacta. En este caso, será necesario emplear un algoritmo **iterativo**, que en principio podría correr ¡por un tiempo infinito! Lo pararemos cuando pensemos que el problema ya se resolvió de forma \"suficientemente buena\"."
   ]
  },
  {
   "cell_type": "markdown",
   "metadata": {},
   "source": [
    "## Algoritmos iterativos"
   ]
  },
  {
   "cell_type": "markdown",
   "metadata": {},
   "source": [
    "Un **algoritmo iterativo** repite un mismo cálculo un gran número de veces, modificando un valor (o varios valores) en el proceso, hasta que (en el mejor de los casos) converja a una solución.\n",
    "\n",
    "Un algorithmo iterativo empieza desde una adivinanza inicial $x_0$, y aplica un procedimiento / receta matemática, o sea alguna función $f$ (que puede ser complicada), para producir una siguiente adivinanza $x_1 := f(x_0)$. Esto se repite para producir una secuencia $x_0, x_1, \\ldots, x_n, \\ldots$, tales que\n",
    "\n",
    "$$x_1 = f(x_0)$$\n",
    "$$x_2 = f(x_1)$$\n",
    "$$x_3 = f(x_2)$$\n",
    "\n",
    "etc. En general, escribimos una iteración como \n",
    "\n",
    "$$x_{n+1} := f(x_n).$$\n",
    "\n",
    "La esperanza es que la secuencia $x_n$ converja hacia un valor límite $x^*$ cuando $n \\to \\infty$, y que el $x^*$ resultante sea solución del problema original.\n",
    "\n",
    "Dado que no podemos llevar a cabo la iteración un número infinito de veces, se corta la iteración después de un cierto número de pasos, para dar una solución *aproximada*, que se acerca dentro de cierta *tolerancia* al resultado teórico exacto $x^*$. Por lo tanto, cualquier algoritmo iterativo requiere una condición de terminación.\n",
    "\n",
    "En la computadora, no pensamos en escribir $x_n$, sino pensamos en el **valor actual** de $x$, y el **valor siguiente** de $x$. Dentro del bucle, usamos el valor actual de $x$ para calcular el valor nuevo. Al final del bucle, debemos actualizar el \"valor actual\"."
   ]
  },
  {
   "cell_type": "markdown",
   "metadata": {},
   "source": [
    "# Iteraciones de punto fijo"
   ]
  },
  {
   "cell_type": "markdown",
   "metadata": {},
   "source": [
    "**[1]** (i) Define la función $f_1(x) = \\frac{x}{2} - 1$.\n",
    "\n",
    "(ii) Toma una condición inicial $x_0$ y lleva a cabo la iteración a mano. ¿Qué observas?\n",
    "\n",
    "(iii) Utiliza un bucle `for` para ver cómo son los primeros $N$ iterados $x_n$. Haz una función que tome como argumento $x_0$ y $N$.\n",
    "\n",
    "(iv) Repite la iteración para varios valores de $x_0$. ¿Qué observas?"
   ]
  },
  {
   "cell_type": "code",
   "execution_count": 1,
   "metadata": {},
   "outputs": [
    {
     "data": {
      "text/plain": [
       "5"
      ]
     },
     "execution_count": 1,
     "metadata": {},
     "output_type": "execute_result"
    }
   ],
   "source": [
    "f(x) = x/2 - 1\n",
    "x0 = 5"
   ]
  },
  {
   "cell_type": "code",
   "execution_count": 2,
   "metadata": {},
   "outputs": [
    {
     "data": {
      "text/plain": [
       "1.5"
      ]
     },
     "execution_count": 2,
     "metadata": {},
     "output_type": "execute_result"
    }
   ],
   "source": [
    "x0 = f(x0)"
   ]
  },
  {
   "cell_type": "code",
   "execution_count": 3,
   "metadata": {},
   "outputs": [
    {
     "data": {
      "text/plain": [
       "-0.25"
      ]
     },
     "execution_count": 3,
     "metadata": {},
     "output_type": "execute_result"
    }
   ],
   "source": [
    "x0 = f(x0)"
   ]
  },
  {
   "cell_type": "code",
   "execution_count": 4,
   "metadata": {},
   "outputs": [
    {
     "data": {
      "text/plain": [
       "-1.125"
      ]
     },
     "execution_count": 4,
     "metadata": {},
     "output_type": "execute_result"
    }
   ],
   "source": [
    "x0 = f(x0)"
   ]
  },
  {
   "cell_type": "code",
   "execution_count": 5,
   "metadata": {},
   "outputs": [
    {
     "data": {
      "text/plain": [
       "-1.5625"
      ]
     },
     "execution_count": 5,
     "metadata": {},
     "output_type": "execute_result"
    }
   ],
   "source": [
    "x0 = f(x0)"
   ]
  },
  {
   "cell_type": "code",
   "execution_count": 6,
   "metadata": {},
   "outputs": [
    {
     "data": {
      "text/plain": [
       "-1.78125"
      ]
     },
     "execution_count": 6,
     "metadata": {},
     "output_type": "execute_result"
    }
   ],
   "source": [
    "x0 = f(x0)"
   ]
  },
  {
   "cell_type": "code",
   "execution_count": 7,
   "metadata": {},
   "outputs": [
    {
     "data": {
      "text/plain": [
       "-1.890625"
      ]
     },
     "execution_count": 7,
     "metadata": {},
     "output_type": "execute_result"
    }
   ],
   "source": [
    "x0 = f(x0)"
   ]
  },
  {
   "cell_type": "code",
   "execution_count": 8,
   "metadata": {},
   "outputs": [
    {
     "data": {
      "text/plain": [
       "-1.9453125"
      ]
     },
     "execution_count": 8,
     "metadata": {},
     "output_type": "execute_result"
    }
   ],
   "source": [
    "x0 = f(x0)"
   ]
  },
  {
   "cell_type": "code",
   "execution_count": 9,
   "metadata": {},
   "outputs": [
    {
     "data": {
      "text/plain": [
       "-1.97265625"
      ]
     },
     "execution_count": 9,
     "metadata": {},
     "output_type": "execute_result"
    }
   ],
   "source": [
    "x0 = f(x0)"
   ]
  },
  {
   "cell_type": "code",
   "execution_count": 10,
   "metadata": {},
   "outputs": [
    {
     "data": {
      "text/plain": [
       "-1.986328125"
      ]
     },
     "execution_count": 10,
     "metadata": {},
     "output_type": "execute_result"
    }
   ],
   "source": [
    "x0 = f(x0)"
   ]
  },
  {
   "cell_type": "code",
   "execution_count": 11,
   "metadata": {},
   "outputs": [
    {
     "data": {
      "text/plain": [
       "-1.9931640625"
      ]
     },
     "execution_count": 11,
     "metadata": {},
     "output_type": "execute_result"
    }
   ],
   "source": [
    "x0 = f(x0)"
   ]
  },
  {
   "cell_type": "code",
   "execution_count": 12,
   "metadata": {},
   "outputs": [
    {
     "name": "stdout",
     "output_type": "stream",
     "text": [
      "x0 = 1.5\n",
      "x0 = -0.25\n",
      "x0 = -1.125\n",
      "x0 = -1.5625\n",
      "x0 = -1.78125\n",
      "x0 = -1.890625\n",
      "x0 = -1.9453125\n",
      "x0 = -1.97265625\n",
      "x0 = -1.986328125\n",
      "x0 = -1.9931640625\n",
      "x0 = -1.99658203125\n",
      "x0 = -1.998291015625\n",
      "x0 = -1.9991455078125\n",
      "x0 = -1.99957275390625\n",
      "x0 = -1.999786376953125\n",
      "x0 = -1.9998931884765625\n",
      "x0 = -1.9999465942382812\n",
      "x0 = -1.9999732971191406\n",
      "x0 = -1.9999866485595703\n",
      "x0 = -1.9999933242797852\n"
     ]
    }
   ],
   "source": [
    "x0 = 5\n",
    "for i in 1:20\n",
    "    x0 = f(x0)\n",
    "    @show x0\n",
    "end"
   ]
  },
  {
   "cell_type": "code",
   "execution_count": 13,
   "metadata": {},
   "outputs": [
    {
     "data": {
      "text/plain": [
       "iterar1 (generic function with 1 method)"
      ]
     },
     "execution_count": 13,
     "metadata": {},
     "output_type": "execute_result"
    }
   ],
   "source": [
    "function iterar1(x0, n)\n",
    "    xi = x0\n",
    "    @show xi\n",
    "    for i in 1:n\n",
    "        xi = f(xi)\n",
    "        @show xi\n",
    "    end\n",
    "end"
   ]
  },
  {
   "cell_type": "code",
   "execution_count": 14,
   "metadata": {},
   "outputs": [
    {
     "name": "stdout",
     "output_type": "stream",
     "text": [
      "xi = 10\n",
      "xi = 4.0\n",
      "xi = 1.0\n",
      "xi = -0.5\n",
      "xi = -1.25\n",
      "xi = -1.625\n",
      "xi = -1.8125\n",
      "xi = -1.90625\n",
      "xi = -1.953125\n",
      "xi = -1.9765625\n",
      "xi = -1.98828125\n",
      "xi = -1.994140625\n",
      "xi = -1.9970703125\n",
      "xi = -1.99853515625\n",
      "xi = -1.999267578125\n",
      "xi = -1.9996337890625\n",
      "xi = -1.99981689453125\n",
      "xi = -1.999908447265625\n",
      "xi = -1.9999542236328125\n",
      "xi = -1.9999771118164062\n",
      "xi = -1.9999885559082031\n"
     ]
    }
   ],
   "source": [
    "iterar1(10, 20)"
   ]
  },
  {
   "cell_type": "code",
   "execution_count": 15,
   "metadata": {},
   "outputs": [
    {
     "name": "stdout",
     "output_type": "stream",
     "text": [
      "xi = 20\n",
      "xi = 9.0\n",
      "xi = 3.5\n",
      "xi = 0.75\n",
      "xi = -0.625\n",
      "xi = -1.3125\n",
      "xi = -1.65625\n",
      "xi = -1.828125\n",
      "xi = -1.9140625\n",
      "xi = -1.95703125\n",
      "xi = -1.978515625\n",
      "xi = -1.9892578125\n",
      "xi = -1.99462890625\n",
      "xi = -1.997314453125\n",
      "xi = -1.9986572265625\n",
      "xi = -1.99932861328125\n",
      "xi = -1.999664306640625\n",
      "xi = -1.9998321533203125\n",
      "xi = -1.9999160766601562\n",
      "xi = -1.9999580383300781\n",
      "xi = -1.999979019165039\n"
     ]
    }
   ],
   "source": [
    "iterar1(20,20)"
   ]
  },
  {
   "cell_type": "code",
   "execution_count": 16,
   "metadata": {},
   "outputs": [
    {
     "name": "stdout",
     "output_type": "stream",
     "text": [
      "xi = 30\n",
      "xi = 14.0\n",
      "xi = 6.0\n",
      "xi = 2.0\n",
      "xi = 0.0\n",
      "xi = -1.0\n",
      "xi = -1.5\n",
      "xi = -1.75\n",
      "xi = -1.875\n",
      "xi = -1.9375\n",
      "xi = -1.96875\n",
      "xi = -1.984375\n",
      "xi = -1.9921875\n",
      "xi = -1.99609375\n",
      "xi = -1.998046875\n",
      "xi = -1.9990234375\n",
      "xi = -1.99951171875\n",
      "xi = -1.999755859375\n",
      "xi = -1.9998779296875\n",
      "xi = -1.99993896484375\n",
      "xi = -1.999969482421875\n"
     ]
    }
   ],
   "source": [
    "iterar1(30,20)"
   ]
  },
  {
   "cell_type": "code",
   "execution_count": 17,
   "metadata": {},
   "outputs": [
    {
     "name": "stdout",
     "output_type": "stream",
     "text": [
      "xi = 40\n",
      "xi = 19.0\n",
      "xi = 8.5\n",
      "xi = 3.25\n",
      "xi = 0.625\n",
      "xi = -0.6875\n",
      "xi = -1.34375\n",
      "xi = -1.671875\n",
      "xi = -1.8359375\n",
      "xi = -1.91796875\n",
      "xi = -1.958984375\n",
      "xi = -1.9794921875\n",
      "xi = -1.98974609375\n",
      "xi = -1.994873046875\n",
      "xi = -1.9974365234375\n",
      "xi = -1.99871826171875\n",
      "xi = -1.999359130859375\n",
      "xi = -1.9996795654296875\n",
      "xi = -1.9998397827148438\n",
      "xi = -1.9999198913574219\n",
      "xi = -1.999959945678711\n"
     ]
    }
   ],
   "source": [
    "iterar1(40,20)"
   ]
  },
  {
   "cell_type": "markdown",
   "metadata": {},
   "source": [
    "Para distintos valores de $x_0$ tras algunas iteraciones el valor de $x_i$ siempre se va hacía el mismo punto."
   ]
  },
  {
   "cell_type": "markdown",
   "metadata": {},
   "source": [
    "**[2]** (i) Define una función `iterar` que lleva a cabo lo que hiciste en la pregunta 1. Debe aceptar como su primer argumento (el nombre de) *la función `f` que iterar*, así como el número de veces que se iterará, y la condición inicial.\n",
    "\n",
    "(ii) Utilízalo para iterar la función $f_2(x) = \\cos(x)$.\n",
    "\n",
    "(iii) ¿Adónde converge la iteración? ¿Cuál ecuación hemos resuelto?\n"
   ]
  },
  {
   "cell_type": "code",
   "execution_count": 18,
   "metadata": {},
   "outputs": [
    {
     "data": {
      "text/plain": [
       "iterar2 (generic function with 1 method)"
      ]
     },
     "execution_count": 18,
     "metadata": {},
     "output_type": "execute_result"
    }
   ],
   "source": [
    "function iterar2(f, n, x0)\n",
    "    xi = x0\n",
    "    @show xi\n",
    "    for i in 1:n\n",
    "        xi = f(xi)\n",
    "        @show xi\n",
    "    end\n",
    "end"
   ]
  },
  {
   "cell_type": "code",
   "execution_count": 19,
   "metadata": {},
   "outputs": [
    {
     "name": "stdout",
     "output_type": "stream",
     "text": [
      "xi = 5\n",
      "xi = 0.28366218546322625\n",
      "xi = 0.9600369302946615\n",
      "xi = 0.5734897326953653\n",
      "xi = 0.8400126809521591\n",
      "xi = 0.6674533830038623\n",
      "xi = 0.7854005359989481\n",
      "xi = 0.7071051035019478\n",
      "xi = 0.7602456869604484\n",
      "xi = 0.7246667298504657\n",
      "xi = 0.7487203836426739\n"
     ]
    }
   ],
   "source": [
    "iterar2(cos, 10, 5)"
   ]
  },
  {
   "cell_type": "markdown",
   "metadata": {},
   "source": [
    "La ecuación converge hacia $x\\approx0.7487$, se está resolviendo la ecuación $\\cos (x) = x$."
   ]
  },
  {
   "cell_type": "markdown",
   "metadata": {},
   "source": [
    "**[3]** Ahora queremos graficar. \n",
    "\n",
    "(i) Modifica la función `iterar` para que vaya guardando los valores de $x_n$ en un arreglo, el cual regresa.\n",
    "\n",
    "(ii) Utiliza el paquete `Plots` para graficar el resultado. ¡Ten cuidado con el tipo de gráfica que dibujas: deben ser puntos! Para eso puedes utilizar la función `scatter`.\n",
    "\n",
    "(iii) Grafica la trayectoria para varios valores de $x_0$ en una sola gráfica. [Utiliza `scatter!`, con `!` al final, para *agregar* más información a un `plot` ya existente.] ¿Qué observas?\n",
    "\n",
    "(iv) Importa el paquete `Interact` y utiliza `@manipulate` antes de un bucle `for` sobre `x_0` para ver cómo cambia la visualización (de una sola condición inicial) de forma interactiva."
   ]
  },
  {
   "cell_type": "code",
   "execution_count": 1,
   "metadata": {},
   "outputs": [
    {
     "data": {
      "text/plain": [
       "iterar3 (generic function with 1 method)"
      ]
     },
     "execution_count": 1,
     "metadata": {},
     "output_type": "execute_result"
    }
   ],
   "source": [
    "function iterar3(f, n, x0)\n",
    "    xi = x0\n",
    "    iteraciones = []\n",
    "    for i in 1:n\n",
    "        xi = f(xi)\n",
    "        push!(iteraciones, xi)\n",
    "    end\n",
    "    return iteraciones\n",
    "end"
   ]
  },
  {
   "cell_type": "code",
   "execution_count": 2,
   "metadata": {},
   "outputs": [
    {
     "data": {
      "text/plain": [
       "20-element Array{Any,1}:\n",
       " -0.839072\n",
       "  0.668154\n",
       "  0.784967\n",
       "  0.707412\n",
       "  0.760046\n",
       "  0.724804\n",
       "  0.748629\n",
       "  0.732622\n",
       "  0.743423\n",
       "  0.736156\n",
       "  0.741055\n",
       "  0.737757\n",
       "  0.739979\n",
       "  0.738483\n",
       "  0.739491\n",
       "  0.738812\n",
       "  0.739269\n",
       "  0.738961\n",
       "  0.739169\n",
       "  0.739029"
      ]
     },
     "execution_count": 2,
     "metadata": {},
     "output_type": "execute_result"
    }
   ],
   "source": [
    "iterar3(cos, 20, 10)"
   ]
  },
  {
   "cell_type": "code",
   "execution_count": 8,
   "metadata": {},
   "outputs": [
    {
     "data": {
      "text/html": [
       "<script src=\"/Users/uzielnmtz/.julia/v0.6/Plots/src/backends/../../deps/plotly-latest.min.js\"></script>    <div id=\"7b185ed9-8828-4968-a170-88aa787aae54\" style=\"width:600px;height:400px;\"></div>\n",
       "    <script>\n",
       "    PLOT = document.getElementById('7b185ed9-8828-4968-a170-88aa787aae54');\n",
       "    Plotly.plot(PLOT, [{\"showlegend\":true,\"mode\":\"markers\",\"xaxis\":\"x\",\"colorbar\":{\"title\":\"\"},\"marker\":{\"symbol\":\"circle\",\"color\":\"rgba(0, 154, 250, 1.000)\",\"line\":{\"color\":\"rgba(0, 0, 0, 1.000)\",\"width\":1},\"size\":8},\"y\":[-0.8390715290764524,0.6681539175313869,0.7849667209338518,0.7074117912574378,0.7600464159066489,0.7248040330466254,0.7486293602253776,0.7326224624829214,0.7434230013546059,0.7361561485109404,0.7410549594387223,0.7377568015294014,0.7399792611094448,0.7384825425539806,0.7394909113220078,0.7388117353613576,0.7392692696739697,0.7389610841523994,0.7391686884692474,0.7390288468110177],\"type\":\"scatter\",\"name\":\"y1\",\"yaxis\":\"y\",\"x\":[1,2,3,4,5,6,7,8,9,10,11,12,13,14,15,16,17,18,19,20]},{\"showlegend\":true,\"mode\":\"markers\",\"xaxis\":\"x\",\"colorbar\":{\"title\":\"\"},\"marker\":{\"symbol\":\"circle\",\"color\":\"rgba(227, 111, 71, 1.000)\",\"line\":{\"color\":\"rgba(0, 0, 0, 1.000)\",\"width\":1},\"size\":8},\"y\":[-0.7596879128588213,0.7250509789627886,0.7484656150365038,0.7327339034063398,0.7433484626493682,0.7362065951362824,0.7410210863930329,0.7377796676676203,0.7399638804726462,0.7384929132085405,0.7394839301045826,0.7388164400687014,0.7392661014690993,0.7389632187207351,0.7391672507923697,0.7390298153354723,0.7391223948735033,0.7390600328007951,0.7391020409233897,0.7390737438738708],\"type\":\"scatter\",\"name\":\"y2\",\"yaxis\":\"y\",\"x\":[1,2,3,4,5,6,7,8,9,10,11,12,13,14,15,16,17,18,19,20]},{\"showlegend\":true,\"mode\":\"markers\",\"xaxis\":\"x\",\"colorbar\":{\"title\":\"\"},\"marker\":{\"symbol\":\"circle\",\"color\":\"rgba(62, 164, 78, 1.000)\",\"line\":{\"color\":\"rgba(0, 0, 0, 1.000)\",\"width\":1},\"size\":8},\"y\":[0.40808206181339196,0.9178836435916358,0.6075025752506377,0.821076153606755,0.6814339871753621,0.7766702384588264,0.7132513453913105,0.7562385345854334,0.7274222311100225,0.7468909604393438,0.7338045710347549,0.7426318624642602,0.7366913701599759,0.7406954817487862,0.7379994252347116,0.7398160434246658,0.7385925859290048,0.739416829326571,0.7388616580706518,0.7392356503040952],\"type\":\"scatter\",\"name\":\"y3\",\"yaxis\":\"y\",\"x\":[1,2,3,4,5,6,7,8,9,10,11,12,13,14,15,16,17,18,19,20]},{\"showlegend\":true,\"mode\":\"markers\",\"xaxis\":\"x\",\"colorbar\":{\"title\":\"\"},\"marker\":{\"symbol\":\"circle\",\"color\":\"rgba(195, 113, 210, 1.000)\",\"line\":{\"color\":\"rgba(0, 0, 0, 1.000)\",\"width\":1},\"size\":8},\"y\":[0.9912028118634736,0.5476838819485967,0.8537328396618515,0.6571741449767363,0.7917216543052111,0.7026212903553086,0.7631508799318673,0.7226617074776351,0.7500479789487944,0.7316561637205036,0.744068935592861,0.7357188190950799,0.7413485309391538,0.7375585894288438,0.7401125699151646,0.7383926495178081,0.7395514213183331,0.7387709556035392,0.7392967305535182,0.738942582158074],\"type\":\"scatter\",\"name\":\"y4\",\"yaxis\":\"y\",\"x\":[1,2,3,4,5,6,7,8,9,10,11,12,13,14,15,16,17,18,19,20]}], {\"showlegend\":true,\"xaxis\":{\"gridwidth\":0.5,\"tickvals\":[5.0,10.0,15.0,20.0],\"ticks\":\"inside\",\"tickmode\":\"array\",\"domain\":[0.0658209390492855,0.9934383202099738],\"linecolor\":\"rgba(0, 0, 0, 1.000)\",\"showgrid\":true,\"title\":\"\",\"tickangle\":0,\"gridcolor\":\"rgba(0, 0, 0, 0.100)\",\"titlefont\":{\"color\":\"rgba(0, 0, 0, 1.000)\",\"family\":\"sans-serif\",\"size\":15},\"tickcolor\":\"rgba(0, 0, 0, 1.000)\",\"ticktext\":[\"5\",\"10\",\"15\",\"20\"],\"zeroline\":false,\"type\":\"-\",\"tickfont\":{\"color\":\"rgba(0, 0, 0, 1.000)\",\"family\":\"sans-serif\",\"size\":11},\"anchor\":\"y\"},\"paper_bgcolor\":\"rgba(255, 255, 255, 1.000)\",\"annotations\":[],\"height\":400,\"margin\":{\"l\":0,\"b\":20,\"r\":0,\"t\":20},\"plot_bgcolor\":\"rgba(255, 255, 255, 1.000)\",\"yaxis\":{\"gridwidth\":0.5,\"tickvals\":[-0.5,0.0,0.5,1.0],\"ticks\":\"inside\",\"tickmode\":\"array\",\"domain\":[0.03762029746281716,0.9901574803149606],\"linecolor\":\"rgba(0, 0, 0, 1.000)\",\"showgrid\":true,\"title\":\"\",\"tickangle\":0,\"gridcolor\":\"rgba(0, 0, 0, 0.100)\",\"titlefont\":{\"color\":\"rgba(0, 0, 0, 1.000)\",\"family\":\"sans-serif\",\"size\":15},\"tickcolor\":\"rgba(0, 0, 0, 1.000)\",\"ticktext\":[\"-0.5\",\"0.0\",\"0.5\",\"1.0\"],\"zeroline\":false,\"type\":\"-\",\"tickfont\":{\"color\":\"rgba(0, 0, 0, 1.000)\",\"family\":\"sans-serif\",\"size\":11},\"anchor\":\"x\"},\"legend\":{\"bordercolor\":\"rgba(0, 0, 0, 1.000)\",\"bgcolor\":\"rgba(255, 255, 255, 1.000)\",\"font\":{\"color\":\"rgba(0, 0, 0, 1.000)\",\"family\":\"sans-serif\",\"size\":11},\"y\":1.0,\"x\":1.0},\"width\":600});\n",
       "    </script>\n"
      ]
     },
     "execution_count": 8,
     "metadata": {},
     "output_type": "execute_result"
    }
   ],
   "source": [
    "using Plots\n",
    "using Interact\n",
    "\n",
    "scatter(iterar3(cos, 20, 10))\n",
    "scatter!(iterar3(cos, 20, 15))\n",
    "scatter!(iterar3(cos,20, 20))\n",
    "scatter!(iterar3(cos, 20, 25))"
   ]
  },
  {
   "cell_type": "code",
   "execution_count": 13,
   "metadata": {},
   "outputs": [
    {
     "name": "stderr",
     "output_type": "stream",
     "text": [
      "\u001b[1m\u001b[36mINFO: \u001b[39m\u001b[22m\u001b[36mCloning cache of AxisAlgorithms from https://github.com/timholy/AxisAlgorithms.jl.git\n",
      "\u001b[39m\u001b[1m\u001b[36mINFO: \u001b[39m\u001b[22m\u001b[36mCloning cache of Calculus from https://github.com/johnmyleswhite/Calculus.jl.git\n",
      "\u001b[39m\u001b[1m\u001b[36mINFO: \u001b[39m\u001b[22m\u001b[36mCloning cache of CommonSubexpressions from https://github.com/rdeits/CommonSubexpressions.jl.git\n",
      "\u001b[39m\u001b[1m\u001b[36mINFO: \u001b[39m\u001b[22m\u001b[36mCloning cache of Compose from https://github.com/GiovineItalia/Compose.jl.git\n",
      "\u001b[39m\u001b[1m\u001b[36mINFO: \u001b[39m\u001b[22m\u001b[36mCloning cache of CoupledFields from https://github.com/Mattriks/CoupledFields.jl.git\n",
      "\u001b[39m\u001b[1m\u001b[36mINFO: \u001b[39m\u001b[22m\u001b[36mCloning cache of DataArrays from https://github.com/JuliaStats/DataArrays.jl.git\n",
      "\u001b[39m\u001b[1m\u001b[36mINFO: \u001b[39m\u001b[22m\u001b[36mCloning cache of DataFrames from https://github.com/JuliaStats/DataFrames.jl.git\n",
      "\u001b[39m\u001b[1m\u001b[36mINFO: \u001b[39m\u001b[22m\u001b[36mCloning cache of DiffBase from https://github.com/JuliaDiff/DiffBase.jl.git\n",
      "\u001b[39m\u001b[1m\u001b[36mINFO: \u001b[39m\u001b[22m\u001b[36mCloning cache of Distances from https://github.com/JuliaStats/Distances.jl.git\n",
      "\u001b[39m\u001b[1m\u001b[36mINFO: \u001b[39m\u001b[22m\u001b[36mCloning cache of Distributions from https://github.com/JuliaStats/Distributions.jl.git\n",
      "\u001b[39m\u001b[1m\u001b[36mINFO: \u001b[39m\u001b[22m\u001b[36mCloning cache of DualNumbers from https://github.com/JuliaDiff/DualNumbers.jl.git\n",
      "\u001b[39m\u001b[1m\u001b[36mINFO: \u001b[39m\u001b[22m\u001b[36mCloning cache of FileIO from https://github.com/JuliaIO/FileIO.jl.git\n",
      "\u001b[39m\u001b[1m\u001b[36mINFO: \u001b[39m\u001b[22m\u001b[36mCloning cache of ForwardDiff from https://github.com/JuliaDiff/ForwardDiff.jl.git\n",
      "\u001b[39m\u001b[1m\u001b[36mINFO: \u001b[39m\u001b[22m\u001b[36mCloning cache of GZip from https://github.com/JuliaIO/GZip.jl.git\n",
      "\u001b[39m\u001b[1m\u001b[36mINFO: \u001b[39m\u001b[22m\u001b[36mCloning cache of Gadfly from https://github.com/GiovineItalia/Gadfly.jl.git\n",
      "\u001b[39m\u001b[1m\u001b[36mINFO: \u001b[39m\u001b[22m\u001b[36mCloning cache of Hexagons from https://github.com/GiovineItalia/Hexagons.jl.git\n",
      "\u001b[39m\u001b[1m\u001b[36mINFO: \u001b[39m\u001b[22m\u001b[36mCloning cache of Hiccup from https://github.com/JunoLab/Hiccup.jl.git\n",
      "\u001b[39m\u001b[1m\u001b[36mINFO: \u001b[39m\u001b[22m\u001b[36mCloning cache of Interpolations from https://github.com/JuliaMath/Interpolations.jl.git\n",
      "\u001b[39m\u001b[1m\u001b[36mINFO: \u001b[39m\u001b[22m\u001b[36mCloning cache of IterTools from https://github.com/JuliaCollections/IterTools.jl.git\n",
      "\u001b[39m\u001b[1m\u001b[36mINFO: \u001b[39m\u001b[22m\u001b[36mCloning cache of Juno from https://github.com/JunoLab/Juno.jl.git\n",
      "\u001b[39m\u001b[1m\u001b[36mINFO: \u001b[39m\u001b[22m\u001b[36mCloning cache of KernelDensity from https://github.com/JuliaStats/KernelDensity.jl.git\n",
      "\u001b[39m\u001b[1m\u001b[36mINFO: \u001b[39m\u001b[22m\u001b[36mCloning cache of LineSearches from https://github.com/JuliaNLSolvers/LineSearches.jl.git\n",
      "\u001b[39m\u001b[1m\u001b[36mINFO: \u001b[39m\u001b[22m\u001b[36mCloning cache of Loess from https://github.com/JuliaStats/Loess.jl.git\n",
      "\u001b[39m\u001b[1m\u001b[36mINFO: \u001b[39m\u001b[22m\u001b[36mCloning cache of Media from https://github.com/JunoLab/Media.jl.git\n",
      "\u001b[39m\u001b[1m\u001b[36mINFO: \u001b[39m\u001b[22m\u001b[36mCloning cache of NLSolversBase from https://github.com/JuliaNLSolvers/NLSolversBase.jl.git\n",
      "\u001b[39m\u001b[1m\u001b[36mINFO: \u001b[39m\u001b[22m\u001b[36mCloning cache of Optim from https://github.com/JuliaNLSolvers/Optim.jl.git\n",
      "\u001b[39m\u001b[1m\u001b[36mINFO: \u001b[39m\u001b[22m\u001b[36mCloning cache of PDMats from https://github.com/JuliaStats/PDMats.jl.git\n",
      "\u001b[39m\u001b[1m\u001b[36mINFO: \u001b[39m\u001b[22m\u001b[36mCloning cache of Parameters from https://github.com/mauro3/Parameters.jl.git\n",
      "\u001b[39m\u001b[1m\u001b[36mINFO: \u001b[39m\u001b[22m\u001b[36mCloning cache of PositiveFactorizations from https://github.com/timholy/PositiveFactorizations.jl.git\n",
      "\u001b[39m\u001b[1m\u001b[36mINFO: \u001b[39m\u001b[22m\u001b[36mCloning cache of QuadGK from https://github.com/JuliaMath/QuadGK.jl.git\n",
      "\u001b[39m\u001b[1m\u001b[36mINFO: \u001b[39m\u001b[22m\u001b[36mCloning cache of Ratios from https://github.com/timholy/Ratios.jl.git\n",
      "\u001b[39m\u001b[1m\u001b[36mINFO: \u001b[39m\u001b[22m\u001b[36mCloning cache of RealInterface from https://github.com/jrevels/RealInterface.jl.git\n",
      "\u001b[39m\u001b[1m\u001b[36mINFO: \u001b[39m\u001b[22m\u001b[36mCloning cache of Rmath from https://github.com/JuliaStats/Rmath.jl.git\n",
      "\u001b[39m\u001b[1m\u001b[36mINFO: \u001b[39m\u001b[22m\u001b[36mCloning cache of ShowItLikeYouBuildIt from https://github.com/JuliaArrays/ShowItLikeYouBuildIt.jl.git\n",
      "\u001b[39m\u001b[1m\u001b[36mINFO: \u001b[39m\u001b[22m\u001b[36mCloning cache of SortingAlgorithms from https://github.com/JuliaCollections/SortingAlgorithms.jl.git\n",
      "\u001b[39m\u001b[1m\u001b[36mINFO: \u001b[39m\u001b[22m\u001b[36mCloning cache of StatsFuns from https://github.com/JuliaStats/StatsFuns.jl.git\n",
      "\u001b[39m\u001b[1m\u001b[36mINFO: \u001b[39m\u001b[22m\u001b[36mCloning cache of WoodburyMatrices from https://github.com/timholy/WoodburyMatrices.jl.git\n",
      "\u001b[39m\u001b[1m\u001b[36mINFO: \u001b[39m\u001b[22m\u001b[36mInstalling AxisAlgorithms v0.2.0\n",
      "\u001b[39m\u001b[1m\u001b[36mINFO: \u001b[39m\u001b[22m\u001b[36mInstalling Calculus v0.2.2\n",
      "\u001b[39m\u001b[1m\u001b[36mINFO: \u001b[39m\u001b[22m\u001b[36mInstalling CommonSubexpressions v0.0.1\n",
      "\u001b[39m\u001b[1m\u001b[36mINFO: \u001b[39m\u001b[22m\u001b[36mInstalling Compose v0.5.3\n",
      "\u001b[39m\u001b[1m\u001b[36mINFO: \u001b[39m\u001b[22m\u001b[36mInstalling CoupledFields v0.0.1\n",
      "\u001b[39m\u001b[1m\u001b[36mINFO: \u001b[39m\u001b[22m\u001b[36mInstalling DataArrays v0.6.2\n",
      "\u001b[39m\u001b[1m\u001b[36mINFO: \u001b[39m\u001b[22m\u001b[36mInstalling DataFrames v0.10.1\n",
      "\u001b[39m\u001b[1m\u001b[36mINFO: \u001b[39m\u001b[22m\u001b[36mInstalling DiffBase v0.2.0\n",
      "\u001b[39m\u001b[1m\u001b[36mINFO: \u001b[39m\u001b[22m\u001b[36mInstalling Distances v0.5.0\n",
      "\u001b[39m\u001b[1m\u001b[36mINFO: \u001b[39m\u001b[22m\u001b[36mInstalling Distributions v0.14.2\n",
      "\u001b[39m\u001b[1m\u001b[36mINFO: \u001b[39m\u001b[22m\u001b[36mInstalling DualNumbers v0.3.0\n",
      "\u001b[39m\u001b[1m\u001b[36mINFO: \u001b[39m\u001b[22m\u001b[36mInstalling FileIO v0.5.1\n",
      "\u001b[39m\u001b[1m\u001b[36mINFO: \u001b[39m\u001b[22m\u001b[36mInstalling ForwardDiff v0.5.0\n",
      "\u001b[39m\u001b[1m\u001b[36mINFO: \u001b[39m\u001b[22m\u001b[36mInstalling GZip v0.3.0\n",
      "\u001b[39m\u001b[1m\u001b[36mINFO: \u001b[39m\u001b[22m\u001b[36mInstalling Gadfly v0.6.3\n",
      "\u001b[39m\u001b[1m\u001b[36mINFO: \u001b[39m\u001b[22m\u001b[36mInstalling Hexagons v0.1.0\n",
      "\u001b[39m\u001b[1m\u001b[36mINFO: \u001b[39m\u001b[22m\u001b[36mInstalling Hiccup v0.1.1\n",
      "\u001b[39m\u001b[1m\u001b[36mINFO: \u001b[39m\u001b[22m\u001b[36mInstalling Interpolations v0.6.2\n",
      "\u001b[39m\u001b[1m\u001b[36mINFO: \u001b[39m\u001b[22m\u001b[36mInstalling IterTools v0.1.0\n",
      "\u001b[39m\u001b[1m\u001b[36mINFO: \u001b[39m\u001b[22m\u001b[36mInstalling Juno v0.3.0\n",
      "\u001b[39m\u001b[1m\u001b[36mINFO: \u001b[39m\u001b[22m\u001b[36mInstalling KernelDensity v0.3.2\n",
      "\u001b[39m\u001b[1m\u001b[36mINFO: \u001b[39m\u001b[22m\u001b[36mInstalling LineSearches v2.2.1\n",
      "\u001b[39m\u001b[1m\u001b[36mINFO: \u001b[39m\u001b[22m\u001b[36mInstalling Loess v0.3.0\n",
      "\u001b[39m\u001b[1m\u001b[36mINFO: \u001b[39m\u001b[22m\u001b[36mInstalling Media v0.3.0\n",
      "\u001b[39m\u001b[1m\u001b[36mINFO: \u001b[39m\u001b[22m\u001b[36mInstalling NLSolversBase v2.1.3\n",
      "\u001b[39m\u001b[1m\u001b[36mINFO: \u001b[39m\u001b[22m\u001b[36mInstalling Optim v0.9.3\n",
      "\u001b[39m\u001b[1m\u001b[36mINFO: \u001b[39m\u001b[22m\u001b[36mInstalling PDMats v0.7.0\n",
      "\u001b[39m\u001b[1m\u001b[36mINFO: \u001b[39m\u001b[22m\u001b[36mInstalling Parameters v0.7.2\n",
      "\u001b[39m\u001b[1m\u001b[36mINFO: \u001b[39m\u001b[22m\u001b[36mInstalling PositiveFactorizations v0.0.4\n",
      "\u001b[39m\u001b[1m\u001b[36mINFO: \u001b[39m\u001b[22m\u001b[36mInstalling QuadGK v0.1.3\n",
      "\u001b[39m\u001b[1m\u001b[36mINFO: \u001b[39m\u001b[22m\u001b[36mInstalling Ratios v0.1.0\n",
      "\u001b[39m\u001b[1m\u001b[36mINFO: \u001b[39m\u001b[22m\u001b[36mInstalling RealInterface v0.0.3\n",
      "\u001b[39m\u001b[1m\u001b[36mINFO: \u001b[39m\u001b[22m\u001b[36mInstalling Rmath v0.3.0\n",
      "\u001b[39m\u001b[1m\u001b[36mINFO: \u001b[39m\u001b[22m\u001b[36mInstalling ShowItLikeYouBuildIt v0.1.0\n",
      "\u001b[39m\u001b[1m\u001b[36mINFO: \u001b[39m\u001b[22m\u001b[36mInstalling SortingAlgorithms v0.1.1\n",
      "\u001b[39m\u001b[1m\u001b[36mINFO: \u001b[39m\u001b[22m\u001b[36mInstalling StatsFuns v0.5.0\n",
      "\u001b[39m\u001b[1m\u001b[36mINFO: \u001b[39m\u001b[22m\u001b[36mInstalling WoodburyMatrices v0.2.2\n",
      "\u001b[39m\u001b[1m\u001b[36mINFO: \u001b[39m\u001b[22m\u001b[36mBuilding Rmath\n",
      "\u001b[39m\u001b[1m\u001b[36mINFO: \u001b[39m\u001b[22m\u001b[36mAttempting to Create directory /Users/uzielnmtz/.julia/v0.6/Rmath/deps/downloads\n",
      "\u001b[39m\u001b[1m\u001b[36mINFO: \u001b[39m\u001b[22m\u001b[36mDownloading file https://github.com/JuliaLang/Rmath-julia/archive/v0.2.0.tar.gz\n",
      "\u001b[39m  % Total    % Received % Xferd  Average Speed   Time    Time     Time  Current\n",
      "                                 Dload  Upload   Total   Spent    Left  Speed\n",
      "\r",
      "  0     0    0     0    0     0      0      0 --:--:-- --:--:-- --:--:--     0\r",
      "  0     0    0     0    0     0      0      0 --:--:-- --:--:-- --:--:--     0\r",
      "100   129    0   129    0     0    158      0 --:--:-- --:--:-- --:--:--   159\n",
      "\r",
      "  8  155k    8 13700    0     0   8018      0  0:00:19  0:00:01  0:00:18  8018\r",
      "100  155k  100  155k    0     0  78623      0  0:00:02  0:00:02 --:--:--  453k\n",
      "\u001b[1m\u001b[36mINFO: \u001b[39m\u001b[22m\u001b[36mDone downloading file https://github.com/JuliaLang/Rmath-julia/archive/v0.2.0.tar.gz\n",
      "\u001b[39m\u001b[1m\u001b[36mINFO: \u001b[39m\u001b[22m\u001b[36mAttempting to Create directory /Users/uzielnmtz/.julia/v0.6/Rmath/deps/src\n",
      "\u001b[39m\u001b[1m\u001b[36mINFO: \u001b[39m\u001b[22m\u001b[36mAttempting to Create directory /Users/uzielnmtz/.julia/v0.6/Rmath/deps\n",
      "\u001b[39m\u001b[1m\u001b[36mINFO: \u001b[39m\u001b[22m\u001b[36mDirectory /Users/uzielnmtz/.julia/v0.6/Rmath/deps already created\n",
      "\u001b[39m\u001b[1m\u001b[36mINFO: \u001b[39m\u001b[22m\u001b[36mAttempting to Create directory /Users/uzielnmtz/.julia/v0.6/Rmath/deps/usr/lib\n",
      "\u001b[39m\u001b[1m\u001b[36mINFO: \u001b[39m\u001b[22m\u001b[36mChanging Directory to /Users/uzielnmtz/.julia/v0.6/Rmath/deps/src/Rmath-julia-0.2.0\n",
      "\u001b[39m\u001b[1m\u001b[36mINFO: \u001b[39m\u001b[22m\u001b[36mChanging Directory to /Users/uzielnmtz/.julia/v0.6/Rmath/deps/src/Rmath-julia-0.2.0\n",
      "\u001b[39m\u001b[1m\u001b[36mINFO: \u001b[39m\u001b[22m\u001b[36mPackage database updated\n",
      "\u001b[39m\u001b[1m\u001b[36mINFO: \u001b[39m\u001b[22m\u001b[36mMETADATA is out-of-date — you may not have the latest version of Gadfly\n",
      "\u001b[39m\u001b[1m\u001b[36mINFO: \u001b[39m\u001b[22m\u001b[36mUse `Pkg.update()` to get the latest versions of your packages\n",
      "\u001b[39m"
     ]
    }
   ],
   "source": [
    "gr()\n",
    "Pkg.add(\"Gadfly\")"
   ]
  },
  {
   "cell_type": "code",
   "execution_count": 14,
   "metadata": {},
   "outputs": [
    {
     "name": "stderr",
     "output_type": "stream",
     "text": [
      "\u001b[1m\u001b[36mINFO: \u001b[39m\u001b[22m\u001b[36mPrecompiling module Gadfly.\n",
      "\u001b[39m\u001b[1m\u001b[33mWARNING: \u001b[39m\u001b[22m\u001b[33mModule Measures with uuid 8362957364988 is missing from the cache.\n",
      "This may mean module Measures does not support precompilation but is imported by a module that does.\u001b[39m\n",
      "\u001b[1m\u001b[91mERROR: \u001b[39m\u001b[22mLoadError: \u001b[91mDeclaring __precompile__(false) is not allowed in files that are being precompiled.\u001b[39m\n",
      "Stacktrace:\n",
      " [1] \u001b[1m_require\u001b[22m\u001b[22m\u001b[1m(\u001b[22m\u001b[22m::Symbol\u001b[1m)\u001b[22m\u001b[22m at \u001b[1m./loading.jl:448\u001b[22m\u001b[22m\n",
      " [2] \u001b[1mrequire\u001b[22m\u001b[22m\u001b[1m(\u001b[22m\u001b[22m::Symbol\u001b[1m)\u001b[22m\u001b[22m at \u001b[1m./loading.jl:398\u001b[22m\u001b[22m\n",
      " [3] \u001b[1minclude_from_node1\u001b[22m\u001b[22m\u001b[1m(\u001b[22m\u001b[22m::String\u001b[1m)\u001b[22m\u001b[22m at \u001b[1m./loading.jl:569\u001b[22m\u001b[22m\n",
      " [4] \u001b[1minclude\u001b[22m\u001b[22m\u001b[1m(\u001b[22m\u001b[22m::String\u001b[1m)\u001b[22m\u001b[22m at \u001b[1m./sysimg.jl:14\u001b[22m\u001b[22m\n",
      " [5] \u001b[1manonymous\u001b[22m\u001b[22m at \u001b[1m./<missing>:2\u001b[22m\u001b[22m\n",
      "while loading /Users/uzielnmtz/.julia/v0.6/Compose/src/Compose.jl, in expression starting on line 9\n",
      "\u001b[1m\u001b[91mERROR: \u001b[39m\u001b[22mLoadError: \u001b[91mFailed to precompile Compose to /Users/uzielnmtz/.julia/lib/v0.6/Compose.ji.\u001b[39m\n",
      "Stacktrace:\n",
      " [1] \u001b[1mcompilecache\u001b[22m\u001b[22m\u001b[1m(\u001b[22m\u001b[22m::String\u001b[1m)\u001b[22m\u001b[22m at \u001b[1m./loading.jl:703\u001b[22m\u001b[22m\n",
      " [2] \u001b[1m_require\u001b[22m\u001b[22m\u001b[1m(\u001b[22m\u001b[22m::Symbol\u001b[1m)\u001b[22m\u001b[22m at \u001b[1m./loading.jl:456\u001b[22m\u001b[22m\n",
      " [3] \u001b[1mrequire\u001b[22m\u001b[22m\u001b[1m(\u001b[22m\u001b[22m::Symbol\u001b[1m)\u001b[22m\u001b[22m at \u001b[1m./loading.jl:398\u001b[22m\u001b[22m\n",
      " [4] \u001b[1minclude_from_node1\u001b[22m\u001b[22m\u001b[1m(\u001b[22m\u001b[22m::String\u001b[1m)\u001b[22m\u001b[22m at \u001b[1m./loading.jl:569\u001b[22m\u001b[22m\n",
      " [5] \u001b[1minclude\u001b[22m\u001b[22m\u001b[1m(\u001b[22m\u001b[22m::String\u001b[1m)\u001b[22m\u001b[22m at \u001b[1m./sysimg.jl:14\u001b[22m\u001b[22m\n",
      " [6] \u001b[1manonymous\u001b[22m\u001b[22m at \u001b[1m./<missing>:2\u001b[22m\u001b[22m\n",
      "while loading /Users/uzielnmtz/.julia/v0.6/Gadfly/src/Gadfly.jl, in expression starting on line 7\n"
     ]
    },
    {
     "ename": "LoadError",
     "evalue": "\u001b[91mFailed to precompile Gadfly to /Users/uzielnmtz/.julia/lib/v0.6/Gadfly.ji.\u001b[39m",
     "output_type": "error",
     "traceback": [
      "\u001b[91mFailed to precompile Gadfly to /Users/uzielnmtz/.julia/lib/v0.6/Gadfly.ji.\u001b[39m",
      "",
      "Stacktrace:",
      " [1] \u001b[1mcompilecache\u001b[22m\u001b[22m\u001b[1m(\u001b[22m\u001b[22m::String\u001b[1m)\u001b[22m\u001b[22m at \u001b[1m./loading.jl:703\u001b[22m\u001b[22m",
      " [2] \u001b[1m_require\u001b[22m\u001b[22m\u001b[1m(\u001b[22m\u001b[22m::Symbol\u001b[1m)\u001b[22m\u001b[22m at \u001b[1m./loading.jl:490\u001b[22m\u001b[22m",
      " [3] \u001b[1mrequire\u001b[22m\u001b[22m\u001b[1m(\u001b[22m\u001b[22m::Symbol\u001b[1m)\u001b[22m\u001b[22m at \u001b[1m./loading.jl:398\u001b[22m\u001b[22m",
      " [4] \u001b[1minclude_string\u001b[22m\u001b[22m\u001b[1m(\u001b[22m\u001b[22m::String, ::String\u001b[1m)\u001b[22m\u001b[22m at \u001b[1m./loading.jl:515\u001b[22m\u001b[22m"
     ]
    }
   ],
   "source": [
    "using Gadfly"
   ]
  },
  {
   "cell_type": "code",
   "execution_count": 10,
   "metadata": {},
   "outputs": [
    {
     "data": {
      "text/html": [],
      "text/plain": [
       "Interact.Options{:SelectionSlider,Int64}(13: \"input-4\" = 0 Int64 , \"x0\", 0, \"0\", Interact.OptionDict(DataStructures.OrderedDict(\"-10\"=>-10,\"-8\"=>-8,\"-6\"=>-6,\"-4\"=>-4,\"-2\"=>-2,\"0\"=>0,\"2\"=>2,\"4\"=>4,\"6\"=>6,\"8\"=>8…), Dict(2=>\"2\",0=>\"0\",-4=>\"-4\",10=>\"10\",8=>\"8\",6=>\"6\",-6=>\"-6\",4=>\"4\",-8=>\"-8\",-10=>\"-10\"…)), Any[], Any[], true, \"horizontal\")"
      ]
     },
     "metadata": {},
     "output_type": "display_data",
     "source": "julia"
    },
    {
     "data": {
      "text/html": [
       "<?xml version=\"1.0\" encoding=\"utf-8\"?>\n",
       "<svg xmlns=\"http://www.w3.org/2000/svg\" xmlns:xlink=\"http://www.w3.org/1999/xlink\" width=\"600\" height=\"400\" viewBox=\"0 0 600 400\">\n",
       "<defs>\n",
       "  <clipPath id=\"clip00\">\n",
       "    <rect x=\"0\" y=\"0\" width=\"600\" height=\"400\"/>\n",
       "  </clipPath>\n",
       "</defs>\n",
       "<polygon clip-path=\"url(#clip00)\" points=\"\n",
       "0,400 600,400 600,0 0,0 \n",
       "  \" fill=\"#ffffff\" fill-opacity=\"1\"/>\n",
       "<defs>\n",
       "  <clipPath id=\"clip01\">\n",
       "    <rect x=\"120\" y=\"0\" width=\"421\" height=\"400\"/>\n",
       "  </clipPath>\n",
       "</defs>\n",
       "<polygon clip-path=\"url(#clip00)\" points=\"\n",
       "39.3701,376.378 592.126,376.378 592.126,7.87402 39.3701,7.87402 \n",
       "  \" fill=\"#ffffff\" fill-opacity=\"1\"/>\n",
       "<defs>\n",
       "  <clipPath id=\"clip02\">\n",
       "    <rect x=\"39\" y=\"7\" width=\"554\" height=\"370\"/>\n",
       "  </clipPath>\n",
       "</defs>\n",
       "<polyline clip-path=\"url(#clip02)\" style=\"stroke:#000000; stroke-width:0.5; stroke-opacity:0.1; fill:none\" points=\"\n",
       "  164.797,370.85 164.797,13.4016 \n",
       "  \"/>\n",
       "<polyline clip-path=\"url(#clip02)\" style=\"stroke:#000000; stroke-width:0.5; stroke-opacity:0.1; fill:none\" points=\"\n",
       "  302.025,370.85 302.025,13.4016 \n",
       "  \"/>\n",
       "<polyline clip-path=\"url(#clip02)\" style=\"stroke:#000000; stroke-width:0.5; stroke-opacity:0.1; fill:none\" points=\"\n",
       "  439.254,370.85 439.254,13.4016 \n",
       "  \"/>\n",
       "<polyline clip-path=\"url(#clip02)\" style=\"stroke:#000000; stroke-width:0.5; stroke-opacity:0.1; fill:none\" points=\"\n",
       "  576.482,370.85 576.482,13.4016 \n",
       "  \"/>\n",
       "<polyline clip-path=\"url(#clip02)\" style=\"stroke:#000000; stroke-width:0.5; stroke-opacity:0.1; fill:none\" points=\"\n",
       "  47.6614,320.802 583.835,320.802 \n",
       "  \"/>\n",
       "<polyline clip-path=\"url(#clip02)\" style=\"stroke:#000000; stroke-width:0.5; stroke-opacity:0.1; fill:none\" points=\"\n",
       "  47.6614,245.178 583.835,245.178 \n",
       "  \"/>\n",
       "<polyline clip-path=\"url(#clip02)\" style=\"stroke:#000000; stroke-width:0.5; stroke-opacity:0.1; fill:none\" points=\"\n",
       "  47.6614,169.553 583.835,169.553 \n",
       "  \"/>\n",
       "<polyline clip-path=\"url(#clip02)\" style=\"stroke:#000000; stroke-width:0.5; stroke-opacity:0.1; fill:none\" points=\"\n",
       "  47.6614,93.9281 583.835,93.9281 \n",
       "  \"/>\n",
       "<polyline clip-path=\"url(#clip02)\" style=\"stroke:#000000; stroke-width:0.5; stroke-opacity:0.1; fill:none\" points=\"\n",
       "  47.6614,18.3034 583.835,18.3034 \n",
       "  \"/>\n",
       "<polyline clip-path=\"url(#clip00)\" style=\"stroke:#000000; stroke-width:1; stroke-opacity:1; fill:none\" points=\"\n",
       "  39.3701,376.378 592.126,376.378 \n",
       "  \"/>\n",
       "<polyline clip-path=\"url(#clip00)\" style=\"stroke:#000000; stroke-width:1; stroke-opacity:1; fill:none\" points=\"\n",
       "  164.797,376.378 164.797,370.85 \n",
       "  \"/>\n",
       "<polyline clip-path=\"url(#clip00)\" style=\"stroke:#000000; stroke-width:1; stroke-opacity:1; fill:none\" points=\"\n",
       "  302.025,376.378 302.025,370.85 \n",
       "  \"/>\n",
       "<polyline clip-path=\"url(#clip00)\" style=\"stroke:#000000; stroke-width:1; stroke-opacity:1; fill:none\" points=\"\n",
       "  439.254,376.378 439.254,370.85 \n",
       "  \"/>\n",
       "<polyline clip-path=\"url(#clip00)\" style=\"stroke:#000000; stroke-width:1; stroke-opacity:1; fill:none\" points=\"\n",
       "  576.482,376.378 576.482,370.85 \n",
       "  \"/>\n",
       "<polyline clip-path=\"url(#clip00)\" style=\"stroke:#000000; stroke-width:1; stroke-opacity:1; fill:none\" points=\"\n",
       "  39.3701,376.378 39.3701,7.87402 \n",
       "  \"/>\n",
       "<polyline clip-path=\"url(#clip00)\" style=\"stroke:#000000; stroke-width:1; stroke-opacity:1; fill:none\" points=\"\n",
       "  39.3701,320.802 47.6614,320.802 \n",
       "  \"/>\n",
       "<polyline clip-path=\"url(#clip00)\" style=\"stroke:#000000; stroke-width:1; stroke-opacity:1; fill:none\" points=\"\n",
       "  39.3701,245.178 47.6614,245.178 \n",
       "  \"/>\n",
       "<polyline clip-path=\"url(#clip00)\" style=\"stroke:#000000; stroke-width:1; stroke-opacity:1; fill:none\" points=\"\n",
       "  39.3701,169.553 47.6614,169.553 \n",
       "  \"/>\n",
       "<polyline clip-path=\"url(#clip00)\" style=\"stroke:#000000; stroke-width:1; stroke-opacity:1; fill:none\" points=\"\n",
       "  39.3701,93.9281 47.6614,93.9281 \n",
       "  \"/>\n",
       "<polyline clip-path=\"url(#clip00)\" style=\"stroke:#000000; stroke-width:1; stroke-opacity:1; fill:none\" points=\"\n",
       "  39.3701,18.3034 47.6614,18.3034 \n",
       "  \"/>\n",
       "<g clip-path=\"url(#clip00)\">\n",
       "<text style=\"fill:#000000; fill-opacity:1; font-family:Arial,Helvetica Neue,Helvetica,sans-serif; font-size:12; text-anchor:middle;\" transform=\"rotate(0, 164.797, 390.178)\" x=\"164.797\" y=\"390.178\">5</text>\n",
       "</g>\n",
       "<g clip-path=\"url(#clip00)\">\n",
       "<text style=\"fill:#000000; fill-opacity:1; font-family:Arial,Helvetica Neue,Helvetica,sans-serif; font-size:12; text-anchor:middle;\" transform=\"rotate(0, 302.025, 390.178)\" x=\"302.025\" y=\"390.178\">10</text>\n",
       "</g>\n",
       "<g clip-path=\"url(#clip00)\">\n",
       "<text style=\"fill:#000000; fill-opacity:1; font-family:Arial,Helvetica Neue,Helvetica,sans-serif; font-size:12; text-anchor:middle;\" transform=\"rotate(0, 439.254, 390.178)\" x=\"439.254\" y=\"390.178\">15</text>\n",
       "</g>\n",
       "<g clip-path=\"url(#clip00)\">\n",
       "<text style=\"fill:#000000; fill-opacity:1; font-family:Arial,Helvetica Neue,Helvetica,sans-serif; font-size:12; text-anchor:middle;\" transform=\"rotate(0, 576.482, 390.178)\" x=\"576.482\" y=\"390.178\">20</text>\n",
       "</g>\n",
       "<g clip-path=\"url(#clip00)\">\n",
       "<text style=\"fill:#000000; fill-opacity:1; font-family:Arial,Helvetica Neue,Helvetica,sans-serif; font-size:12; text-anchor:end;\" transform=\"rotate(0, 33.3701, 325.302)\" x=\"33.3701\" y=\"325.302\">0.6</text>\n",
       "</g>\n",
       "<g clip-path=\"url(#clip00)\">\n",
       "<text style=\"fill:#000000; fill-opacity:1; font-family:Arial,Helvetica Neue,Helvetica,sans-serif; font-size:12; text-anchor:end;\" transform=\"rotate(0, 33.3701, 249.678)\" x=\"33.3701\" y=\"249.678\">0.7</text>\n",
       "</g>\n",
       "<g clip-path=\"url(#clip00)\">\n",
       "<text style=\"fill:#000000; fill-opacity:1; font-family:Arial,Helvetica Neue,Helvetica,sans-serif; font-size:12; text-anchor:end;\" transform=\"rotate(0, 33.3701, 174.053)\" x=\"33.3701\" y=\"174.053\">0.8</text>\n",
       "</g>\n",
       "<g clip-path=\"url(#clip00)\">\n",
       "<text style=\"fill:#000000; fill-opacity:1; font-family:Arial,Helvetica Neue,Helvetica,sans-serif; font-size:12; text-anchor:end;\" transform=\"rotate(0, 33.3701, 98.4281)\" x=\"33.3701\" y=\"98.4281\">0.9</text>\n",
       "</g>\n",
       "<g clip-path=\"url(#clip00)\">\n",
       "<text style=\"fill:#000000; fill-opacity:1; font-family:Arial,Helvetica Neue,Helvetica,sans-serif; font-size:12; text-anchor:end;\" transform=\"rotate(0, 33.3701, 22.8034)\" x=\"33.3701\" y=\"22.8034\">1.0</text>\n",
       "</g>\n",
       "<circle clip-path=\"url(#clip02)\" style=\"fill:#000000; stroke:none; fill-opacity:1\" cx=\"55.0141\" cy=\"18.3034\" r=\"4\"/>\n",
       "<circle clip-path=\"url(#clip02)\" style=\"fill:#009af9; stroke:none; fill-opacity:1\" cx=\"55.0141\" cy=\"18.3034\" r=\"3\"/>\n",
       "<circle clip-path=\"url(#clip02)\" style=\"fill:#000000; stroke:none; fill-opacity:1\" cx=\"82.4598\" cy=\"365.949\" r=\"4\"/>\n",
       "<circle clip-path=\"url(#clip02)\" style=\"fill:#009af9; stroke:none; fill-opacity:1\" cx=\"82.4598\" cy=\"365.949\" r=\"3\"/>\n",
       "<circle clip-path=\"url(#clip02)\" style=\"fill:#000000; stroke:none; fill-opacity:1\" cx=\"109.905\" cy=\"126.028\" r=\"4\"/>\n",
       "<circle clip-path=\"url(#clip02)\" style=\"fill:#009af9; stroke:none; fill-opacity:1\" cx=\"109.905\" cy=\"126.028\" r=\"3\"/>\n",
       "<circle clip-path=\"url(#clip02)\" style=\"fill:#000000; stroke:none; fill-opacity:1\" cx=\"137.351\" cy=\"279.746\" r=\"4\"/>\n",
       "<circle clip-path=\"url(#clip02)\" style=\"fill:#009af9; stroke:none; fill-opacity:1\" cx=\"137.351\" cy=\"279.746\" r=\"3\"/>\n",
       "<circle clip-path=\"url(#clip02)\" style=\"fill:#000000; stroke:none; fill-opacity:1\" cx=\"164.797\" cy=\"174.483\" r=\"4\"/>\n",
       "<circle clip-path=\"url(#clip02)\" style=\"fill:#009af9; stroke:none; fill-opacity:1\" cx=\"164.797\" cy=\"174.483\" r=\"3\"/>\n",
       "<circle clip-path=\"url(#clip02)\" style=\"fill:#000000; stroke:none; fill-opacity:1\" cx=\"192.242\" cy=\"244.142\" r=\"4\"/>\n",
       "<circle clip-path=\"url(#clip02)\" style=\"fill:#009af9; stroke:none; fill-opacity:1\" cx=\"192.242\" cy=\"244.142\" r=\"3\"/>\n",
       "<circle clip-path=\"url(#clip02)\" style=\"fill:#000000; stroke:none; fill-opacity:1\" cx=\"219.688\" cy=\"196.808\" r=\"4\"/>\n",
       "<circle clip-path=\"url(#clip02)\" style=\"fill:#009af9; stroke:none; fill-opacity:1\" cx=\"219.688\" cy=\"196.808\" r=\"3\"/>\n",
       "<circle clip-path=\"url(#clip02)\" style=\"fill:#000000; stroke:none; fill-opacity:1\" cx=\"247.134\" cy=\"228.463\" r=\"4\"/>\n",
       "<circle clip-path=\"url(#clip02)\" style=\"fill:#009af9; stroke:none; fill-opacity:1\" cx=\"247.134\" cy=\"228.463\" r=\"3\"/>\n",
       "<circle clip-path=\"url(#clip02)\" style=\"fill:#000000; stroke:none; fill-opacity:1\" cx=\"274.58\" cy=\"207.049\" r=\"4\"/>\n",
       "<circle clip-path=\"url(#clip02)\" style=\"fill:#009af9; stroke:none; fill-opacity:1\" cx=\"274.58\" cy=\"207.049\" r=\"3\"/>\n",
       "<circle clip-path=\"url(#clip02)\" style=\"fill:#000000; stroke:none; fill-opacity:1\" cx=\"302.025\" cy=\"221.428\" r=\"4\"/>\n",
       "<circle clip-path=\"url(#clip02)\" style=\"fill:#009af9; stroke:none; fill-opacity:1\" cx=\"302.025\" cy=\"221.428\" r=\"3\"/>\n",
       "<circle clip-path=\"url(#clip02)\" style=\"fill:#000000; stroke:none; fill-opacity:1\" cx=\"329.471\" cy=\"211.723\" r=\"4\"/>\n",
       "<circle clip-path=\"url(#clip02)\" style=\"fill:#009af9; stroke:none; fill-opacity:1\" cx=\"329.471\" cy=\"211.723\" r=\"3\"/>\n",
       "<circle clip-path=\"url(#clip02)\" style=\"fill:#000000; stroke:none; fill-opacity:1\" cx=\"356.917\" cy=\"218.252\" r=\"4\"/>\n",
       "<circle clip-path=\"url(#clip02)\" style=\"fill:#009af9; stroke:none; fill-opacity:1\" cx=\"356.917\" cy=\"218.252\" r=\"3\"/>\n",
       "<circle clip-path=\"url(#clip02)\" style=\"fill:#000000; stroke:none; fill-opacity:1\" cx=\"384.362\" cy=\"213.85\" r=\"4\"/>\n",
       "<circle clip-path=\"url(#clip02)\" style=\"fill:#009af9; stroke:none; fill-opacity:1\" cx=\"384.362\" cy=\"213.85\" r=\"3\"/>\n",
       "<circle clip-path=\"url(#clip02)\" style=\"fill:#000000; stroke:none; fill-opacity:1\" cx=\"411.808\" cy=\"216.813\" r=\"4\"/>\n",
       "<circle clip-path=\"url(#clip02)\" style=\"fill:#009af9; stroke:none; fill-opacity:1\" cx=\"411.808\" cy=\"216.813\" r=\"3\"/>\n",
       "<circle clip-path=\"url(#clip02)\" style=\"fill:#000000; stroke:none; fill-opacity:1\" cx=\"439.254\" cy=\"214.816\" r=\"4\"/>\n",
       "<circle clip-path=\"url(#clip02)\" style=\"fill:#009af9; stroke:none; fill-opacity:1\" cx=\"439.254\" cy=\"214.816\" r=\"3\"/>\n",
       "<circle clip-path=\"url(#clip02)\" style=\"fill:#000000; stroke:none; fill-opacity:1\" cx=\"466.699\" cy=\"216.161\" r=\"4\"/>\n",
       "<circle clip-path=\"url(#clip02)\" style=\"fill:#009af9; stroke:none; fill-opacity:1\" cx=\"466.699\" cy=\"216.161\" r=\"3\"/>\n",
       "<circle clip-path=\"url(#clip02)\" style=\"fill:#000000; stroke:none; fill-opacity:1\" cx=\"494.145\" cy=\"215.255\" r=\"4\"/>\n",
       "<circle clip-path=\"url(#clip02)\" style=\"fill:#009af9; stroke:none; fill-opacity:1\" cx=\"494.145\" cy=\"215.255\" r=\"3\"/>\n",
       "<circle clip-path=\"url(#clip02)\" style=\"fill:#000000; stroke:none; fill-opacity:1\" cx=\"521.591\" cy=\"215.865\" r=\"4\"/>\n",
       "<circle clip-path=\"url(#clip02)\" style=\"fill:#009af9; stroke:none; fill-opacity:1\" cx=\"521.591\" cy=\"215.865\" r=\"3\"/>\n",
       "<circle clip-path=\"url(#clip02)\" style=\"fill:#000000; stroke:none; fill-opacity:1\" cx=\"549.036\" cy=\"215.454\" r=\"4\"/>\n",
       "<circle clip-path=\"url(#clip02)\" style=\"fill:#009af9; stroke:none; fill-opacity:1\" cx=\"549.036\" cy=\"215.454\" r=\"3\"/>\n",
       "<circle clip-path=\"url(#clip02)\" style=\"fill:#000000; stroke:none; fill-opacity:1\" cx=\"576.482\" cy=\"215.731\" r=\"4\"/>\n",
       "<circle clip-path=\"url(#clip02)\" style=\"fill:#009af9; stroke:none; fill-opacity:1\" cx=\"576.482\" cy=\"215.731\" r=\"3\"/>\n",
       "<polygon clip-path=\"url(#clip00)\" points=\"\n",
       "501.61,58.994 574.126,58.994 574.126,28.754 501.61,28.754 \n",
       "  \" fill=\"#ffffff\" fill-opacity=\"1\"/>\n",
       "<polyline clip-path=\"url(#clip00)\" style=\"stroke:#000000; stroke-width:1; stroke-opacity:1; fill:none\" points=\"\n",
       "  501.61,58.994 574.126,58.994 574.126,28.754 501.61,28.754 501.61,58.994 \n",
       "  \"/>\n",
       "<circle clip-path=\"url(#clip00)\" style=\"fill:#000000; stroke:none; fill-opacity:1\" cx=\"528.61\" cy=\"43.874\" r=\"6\"/>\n",
       "<circle clip-path=\"url(#clip00)\" style=\"fill:#009af9; stroke:none; fill-opacity:1\" cx=\"528.61\" cy=\"43.874\" r=\"5\"/>\n",
       "<g clip-path=\"url(#clip00)\">\n",
       "<text style=\"fill:#000000; fill-opacity:1; font-family:Arial,Helvetica Neue,Helvetica,sans-serif; font-size:12; text-anchor:start;\" transform=\"rotate(0, 549.61, 48.374)\" x=\"549.61\" y=\"48.374\">y1</text>\n",
       "</g>\n",
       "</svg>\n"
      ]
     },
     "execution_count": 10,
     "metadata": {
      "comm_id": "6072dbf4-a583-4b7b-9955-a18838308503",
      "reactive": true
     },
     "output_type": "execute_result"
    }
   ],
   "source": [
    "@manipulate for x0 = -10:2:10\n",
    "    x = 0:20\n",
    "    scatter(iterar3(cos, 20, x0))\n",
    "end"
   ]
  },
  {
   "cell_type": "markdown",
   "metadata": {},
   "source": [
    "**[4]** ¿Qué ocurre si iteras la función $f_3(x) = 2x + 1$?"
   ]
  },
  {
   "cell_type": "code",
   "execution_count": 24,
   "metadata": {},
   "outputs": [
    {
     "data": {
      "text/html": [],
      "text/plain": [
       "Interact.Options{:SelectionSlider,Int64}(5: \"input-2\" = 0 Int64 , \"x0\", 0, \"0\", Interact.OptionDict(DataStructures.OrderedDict(\"-10\"=>-10,\"-8\"=>-8,\"-6\"=>-6,\"-4\"=>-4,\"-2\"=>-2,\"0\"=>0,\"2\"=>2,\"4\"=>4,\"6\"=>6,\"8\"=>8…), Dict(2=>\"2\",0=>\"0\",-4=>\"-4\",10=>\"10\",8=>\"8\",6=>\"6\",-6=>\"-6\",4=>\"4\",-8=>\"-8\",-10=>\"-10\"…)), Any[], Any[], true, \"horizontal\")"
      ]
     },
     "metadata": {},
     "output_type": "display_data"
    },
    {
     "data": {
      "text/html": [
       "<script src=\"/Users/uzielnmtz/.julia/v0.6/Plots/src/backends/../../deps/plotly-latest.min.js\"></script>    <div id=\"b9cbe40a-d02b-45af-b838-1c1ce62baa1c\" style=\"width:600px;height:400px;\"></div>\n",
       "    <script>\n",
       "    PLOT = document.getElementById('b9cbe40a-d02b-45af-b838-1c1ce62baa1c');\n",
       "    Plotly.plot(PLOT, [{\"showlegend\":true,\"mode\":\"markers\",\"xaxis\":\"x\",\"colorbar\":{\"title\":\"\"},\"marker\":{\"symbol\":\"circle\",\"color\":\"rgba(0, 154, 250, 1.000)\",\"line\":{\"color\":\"rgba(0, 0, 0, 1.000)\",\"width\":1},\"size\":8},\"y\":[1.0,3.0,7.0,15.0,31.0,63.0,127.0,255.0,511.0,1023.0,2047.0,4095.0,8191.0,16383.0,32767.0,65535.0,131071.0,262143.0,524287.0,1.048575e6,2.097151e6,4.194303e6,8.388607e6,1.6777215e7,3.3554431e7,6.7108863e7,1.34217727e8,2.68435455e8,5.36870911e8,1.073741823e9],\"type\":\"scatter\",\"name\":\"y1\",\"yaxis\":\"y\",\"x\":[1,2,3,4,5,6,7,8,9,10,11,12,13,14,15,16,17,18,19,20,21,22,23,24,25,26,27,28,29,30]}], {\"showlegend\":true,\"xaxis\":{\"gridwidth\":0.5,\"tickvals\":[10.0,20.0,30.0],\"ticks\":\"inside\",\"tickmode\":\"array\",\"domain\":[0.15470982793817437,0.9934383202099737],\"linecolor\":\"rgba(0, 0, 0, 1.000)\",\"showgrid\":true,\"title\":\"\",\"tickangle\":0,\"gridcolor\":\"rgba(0, 0, 0, 0.100)\",\"titlefont\":{\"color\":\"rgba(0, 0, 0, 1.000)\",\"family\":\"sans-serif\",\"size\":15},\"tickcolor\":\"rgba(0, 0, 0, 1.000)\",\"ticktext\":[\"10\",\"20\",\"30\"],\"zeroline\":false,\"type\":\"-\",\"tickfont\":{\"color\":\"rgba(0, 0, 0, 1.000)\",\"family\":\"sans-serif\",\"size\":11},\"anchor\":\"y\"},\"paper_bgcolor\":\"rgba(255, 255, 255, 1.000)\",\"annotations\":[],\"height\":400,\"margin\":{\"l\":0,\"b\":20,\"r\":0,\"t\":20},\"plot_bgcolor\":\"rgba(255, 255, 255, 1.000)\",\"yaxis\":{\"gridwidth\":0.5,\"tickvals\":[0.0,5.0e8,1.0e9],\"ticks\":\"inside\",\"tickmode\":\"array\",\"domain\":[0.03762029746281716,0.9901574803149606],\"linecolor\":\"rgba(0, 0, 0, 1.000)\",\"showgrid\":true,\"title\":\"\",\"tickangle\":0,\"gridcolor\":\"rgba(0, 0, 0, 0.100)\",\"titlefont\":{\"color\":\"rgba(0, 0, 0, 1.000)\",\"family\":\"sans-serif\",\"size\":15},\"tickcolor\":\"rgba(0, 0, 0, 1.000)\",\"ticktext\":[\"0\",\"500000000\",\"1000000000\"],\"zeroline\":false,\"type\":\"-\",\"tickfont\":{\"color\":\"rgba(0, 0, 0, 1.000)\",\"family\":\"sans-serif\",\"size\":11},\"anchor\":\"x\"},\"legend\":{\"bordercolor\":\"rgba(0, 0, 0, 1.000)\",\"bgcolor\":\"rgba(255, 255, 255, 1.000)\",\"font\":{\"color\":\"rgba(0, 0, 0, 1.000)\",\"family\":\"sans-serif\",\"size\":11},\"y\":1.0,\"x\":1.0},\"width\":600});\n",
       "    </script>\n"
      ]
     },
     "execution_count": 24,
     "metadata": {
      "comm_id": "c45d6ad9-c083-49e7-80a6-5897228cc3a5",
      "reactive": true
     },
     "output_type": "execute_result"
    }
   ],
   "source": [
    "@manipulate for x0 = -10:2:10\n",
    "    scatter(iterar3(x -> 2*x + 1, 30, x0))\n",
    "end"
   ]
  },
  {
   "cell_type": "markdown",
   "metadata": {},
   "source": [
    "La función no converge, para distintos valores de $x_0$ ninguna iteración converge."
   ]
  },
  {
   "cell_type": "markdown",
   "metadata": {},
   "source": [
    "**[5]** (i) Pensando en la ecuación $x_{n+1} = f(x_n)$, en el límite cuando $n \\to \\infty$, si es que la iteración converge a un valor que podemos llamar $x_\\infty$, ¿a cuál valor debe converger? [Pista: toma el límite de los dos lados de la ecuación.] ¿Coincide con lo observado para $f_1$ y $f_2$?\n",
    "\n",
    "(ii) Graficamente, ¿a qué corresponde resolver la ecuación para $x_\\infty$? Dibuja las gráficas correspondientes para $f_1$ y $f_2$ y checa tu respuesta. \n",
    "\n",
    "(iii) Puedes adivinar cuál es la condición para que la iteración converja?"
   ]
  },
  {
   "cell_type": "markdown",
   "metadata": {},
   "source": [
    "$$\\lim_{n \\to \\infty} x_{n+1} = \\lim_{n \\to \\infty} f(x_n) \\\\\\\\\n",
    "\\Rightarrow x_\\infty = f(x_\\infty)$$\n",
    "\n",
    "De manera que el problema que estamos intentando resolver es el de encontrar $x$ tal que $f(x) = x$ para alguna función.\n",
    "\n",
    "Para nuestros dos ejemplos en particular tenemos:\n",
    "\n",
    "$$\\cos(x) = x \\Rightarrow x\\approx 0.739029 \\\\\\\\\n",
    "\\dfrac{x}{2} - 1 = x \\Rightarrow x\\approx -1.999959$$"
   ]
  },
  {
   "cell_type": "code",
   "execution_count": 25,
   "metadata": {},
   "outputs": [
    {
     "data": {
      "text/html": [
       "<script src=\"/Users/uzielnmtz/.julia/v0.6/Plots/src/backends/../../deps/plotly-latest.min.js\"></script>    <div id=\"1f531acb-52cf-46d9-85b6-63f573461675\" style=\"width:600px;height:400px;\"></div>\n",
       "    <script>\n",
       "    PLOT = document.getElementById('1f531acb-52cf-46d9-85b6-63f573461675');\n",
       "    Plotly.plot(PLOT, [{\"showlegend\":true,\"mode\":\"lines\",\"xaxis\":\"x\",\"colorbar\":{\"title\":\"\"},\"line\":{\"color\":\"rgba(0, 154, 250, 1.000)\",\"shape\":\"linear\",\"dash\":\"solid\",\"width\":1},\"y\":[-3.4511709049010593,-2.999675414158136,-2.7283454434718806,-2.4989394064211714,-2.249740149834743,-2.0200004773268594,-1.7736952679675508,-1.4883265283073386,-1.2347244694448927,-1.0123383172989,-0.7698777167234028,-0.5259761062359396,-0.2563116868779787,0.0002672037242172909,0.2670497175567528,0.4916237683342255,0.7658032299318205,1.0235400106435426,1.4364543200802995],\"type\":\"scatter\",\"name\":\"y1\",\"yaxis\":\"y\",\"x\":[-4.9023418098021185,-3.9993508283162718,-3.456690886943761,-2.997878812842343,-2.499480299669486,-2.0400009546537183,-1.5473905359351015,-0.9766530566146772,-0.46944893888978556,-0.024676634597799892,0.46024456655319457,0.9480477875281209,1.4873766262440427,2.0005344074484346,2.5340994351135055,2.983247536668451,3.531606459863641,4.047080021287085,4.872908640160599]},{\"showlegend\":true,\"mode\":\"lines\",\"xaxis\":\"x\",\"colorbar\":{\"title\":\"\"},\"line\":{\"color\":\"rgba(227, 111, 71, 1.000)\",\"shape\":\"linear\",\"dash\":\"solid\",\"width\":1},\"y\":[0.16532446825073457,0.14174220274922963,0.11807920785029029,0.09434896083367345,-0.1258499755126165,-0.3399452193847842,-0.4414335509139484,-0.537553204767463,-0.6271351818088419,-0.7090899935764873,-0.75425240227281,-0.7960997699067792,-0.8344481716521165,-0.8691290611096611,-0.8999900110915324,-0.926895383559184,-0.9497269257708819,-0.9683842900184578,-0.9902158883896566,-0.9996114978514556,-0.9964531202012067,-0.9807804210814131,-0.9670871688620926,-0.9498083262058635,-0.929007956472249,-0.9047631795002895,-0.877163885677589,-0.8463124026610357,-0.8123231159848711,-0.7753220449627488,-0.6996708572196779,-0.6152070461848618,-0.5229944660130852,-0.42419456958383917,-0.1960251484729502,0.04345305263311433,0.1819255082479145,0.31686452152135985,0.4456492438017523,0.5657783579565594,0.6633809902707684,0.7508045488973196,0.826707586224135,0.8899254282231699,0.9341520774249856,0.967353151803183,0.9891367869722647,0.9992458758665917,0.9997916371654328,0.9968282593192057,0.990366143400309,0.980427970598591,0.9502750592228895,0.9067924849857198,0.8502196264722931,0.7815785850936995,0.7018436651515811,0.6121466396192266,0.502917232244285,0.38496392218922426,0.2603327980184117,0.13118578564822128,-0.11896486996577739,-0.36167097476394816,-0.4798229197696642,-0.5898282706406872,-0.6898193197097366,-0.7780983854774401,-0.842224497953247,-0.8962136737257244,-0.939416104033906,-0.9713118083945258,-0.9850545792416784,-0.9943765238303267,-0.9992358062071273,-0.9996106183996272,-0.995499278288259,-0.9869202371555253,-0.9739119968784913,-0.9565329371362178,-0.9362800481873872,-0.9123139383252982,-0.8847296554584492,-0.8536365969153605,-0.819158075582452,-0.7814308308537966,-0.7406044863322865,-0.696840956432933,-0.6210447449258909,-0.5389300912813402,-0.4513324211138347,-0.3591429436556483,-0.1647774441971406,0.03627671112403359,0.06729252895377233,0.09824343854925412,0.12909958564698387],\"type\":\"scatter\",\"name\":\"y2\",\"yaxis\":\"y\",\"x\":[-4.878475978110259,-4.854610146418399,-4.830744314726539,-4.80687848303468,-4.586204408082635,-4.36553033313059,-4.255193295654568,-4.144856258178545,-4.0345192207025224,-3.9241821832265003,-3.8578742227755205,-3.7915662623245407,-3.725258301873561,-3.6589503414225812,-3.5926423809716015,-3.5263344205206217,-3.460026460069642,-3.3937184996186622,-3.2815934262734565,-3.1694683529282512,-3.057343279583046,-2.9452182062378403,-2.8843185776109186,-2.8234189489839974,-2.762519320357076,-2.7016196917301545,-2.640720063103233,-2.5798204344763116,-2.5189208058493904,-2.4580211772224687,-2.34573303536962,-2.2334448935167712,-2.1211567516639223,-2.0088686098110733,-1.768099098949299,-1.5273295880875248,-1.3878520430490857,-1.2483744980106466,-1.1088969529722075,-0.9694194079337685,-0.8454682259334387,-0.7215170439331089,-0.5975658619327792,-0.47361467993244943,-0.36492066324091976,-0.25622664654939004,-0.14753262985786036,-0.038838613166330666,0.020414214205515833,0.07966704157736233,0.13891986894920882,0.19817269632105533,0.31667835106474834,0.43518400580844135,0.5543939721916517,0.673603938574862,0.7928139049580722,0.9120238713412826,1.0438257331746748,1.1756275950080668,1.3074294568414588,1.4392313186748509,1.690043610255856,1.9408559018368612,2.071249196256045,2.201642490675229,2.332035785094413,2.4624290795135964,2.5721924590592185,2.6819558386048405,2.7917192181504626,2.9014825976960847,2.9684869203298954,3.035491242963706,3.1024955655975166,3.1694998882313272,3.236504210865138,3.3035085334989485,3.370512856132759,3.4375171787665697,3.500503218307175,3.56348925784778,3.626475297388385,3.68946133692899,3.752447376469595,3.8154334160102,3.878419455550805,3.9414054950914106,4.042314014819353,4.143222534547296,4.244131054275238,4.345039574003181,4.546856613459067,4.748673652914952,4.779732399726363,4.810791146537776,4.841849893349187]},{\"showlegend\":true,\"mode\":\"lines\",\"xaxis\":\"x\",\"colorbar\":{\"title\":\"\"},\"line\":{\"color\":\"rgba(62, 164, 78, 1.000)\",\"shape\":\"linear\",\"dash\":\"solid\",\"width\":1},\"y\":[-4.80687848303468,-3.9241821832265003,-3.3937184996186622,-2.9452182062378403,-2.4580211772224687,-2.0088686098110733,-1.5273295880875248,-0.9694194079337685,-0.47361467993244943,-0.038838613166330666,0.43518400580844135,0.9120238713412826,1.4392313186748509,1.9408559018368612,2.4624290795135964,2.9014825976960847,3.4375171787665697,3.9414054950914106,4.748673652914952],\"type\":\"scatter\",\"name\":\"y3\",\"yaxis\":\"y\",\"x\":[-4.80687848303468,-3.9241821832265003,-3.3937184996186622,-2.9452182062378403,-2.4580211772224687,-2.0088686098110733,-1.5273295880875248,-0.9694194079337685,-0.47361467993244943,-0.038838613166330666,0.43518400580844135,0.9120238713412826,1.4392313186748509,1.9408559018368612,2.4624290795135964,2.9014825976960847,3.4375171787665697,3.9414054950914106,4.748673652914952]}], {\"showlegend\":true,\"xaxis\":{\"gridwidth\":0.5,\"tickvals\":[-2.5,0.0,2.5],\"ticks\":\"inside\",\"tickmode\":\"array\",\"domain\":[0.0658209390492855,0.9934383202099738],\"linecolor\":\"rgba(0, 0, 0, 1.000)\",\"showgrid\":true,\"title\":\"\",\"tickangle\":0,\"gridcolor\":\"rgba(0, 0, 0, 0.100)\",\"titlefont\":{\"color\":\"rgba(0, 0, 0, 1.000)\",\"family\":\"sans-serif\",\"size\":15},\"tickcolor\":\"rgba(0, 0, 0, 1.000)\",\"ticktext\":[\"-2.5\",\"0.0\",\"2.5\"],\"zeroline\":false,\"type\":\"-\",\"tickfont\":{\"color\":\"rgba(0, 0, 0, 1.000)\",\"family\":\"sans-serif\",\"size\":11},\"anchor\":\"y\"},\"paper_bgcolor\":\"rgba(255, 255, 255, 1.000)\",\"annotations\":[],\"height\":400,\"margin\":{\"l\":0,\"b\":20,\"r\":0,\"t\":20},\"plot_bgcolor\":\"rgba(255, 255, 255, 1.000)\",\"yaxis\":{\"gridwidth\":0.5,\"tickvals\":[-2.5,0.0,2.5],\"ticks\":\"inside\",\"tickmode\":\"array\",\"domain\":[0.03762029746281716,0.9901574803149606],\"linecolor\":\"rgba(0, 0, 0, 1.000)\",\"showgrid\":true,\"title\":\"\",\"tickangle\":0,\"gridcolor\":\"rgba(0, 0, 0, 0.100)\",\"titlefont\":{\"color\":\"rgba(0, 0, 0, 1.000)\",\"family\":\"sans-serif\",\"size\":15},\"tickcolor\":\"rgba(0, 0, 0, 1.000)\",\"ticktext\":[\"-2.5\",\"0.0\",\"2.5\"],\"zeroline\":false,\"type\":\"-\",\"tickfont\":{\"color\":\"rgba(0, 0, 0, 1.000)\",\"family\":\"sans-serif\",\"size\":11},\"anchor\":\"x\"},\"legend\":{\"bordercolor\":\"rgba(0, 0, 0, 1.000)\",\"bgcolor\":\"rgba(255, 255, 255, 1.000)\",\"font\":{\"color\":\"rgba(0, 0, 0, 1.000)\",\"family\":\"sans-serif\",\"size\":11},\"y\":1.0,\"x\":1.0},\"width\":600});\n",
       "    </script>\n"
      ]
     },
     "execution_count": 25,
     "metadata": {},
     "output_type": "execute_result"
    },
    {
     "name": "stderr",
     "output_type": "stream",
     "text": [
      "WARNING: both Interact and Base export \"select\"; uses of it in module Main must be qualified\n"
     ]
    }
   ],
   "source": [
    "plot(x -> x / 2 - 1)\n",
    "plot!(cos)\n",
    "plot!(x -> x)"
   ]
  },
  {
   "cell_type": "markdown",
   "metadata": {},
   "source": [
    "Gráficamente el problema a resolver es el de las intersecciónes de las funciones $f_1$ y $f_2$ con $g(x)=x$."
   ]
  },
  {
   "cell_type": "markdown",
   "metadata": {},
   "source": [
    "Tal vez una condición para que converja es es que no haya divergencias de la función en las cercanías del guess y que el valor deseado no se encuentre muy lejos."
   ]
  },
  {
   "cell_type": "markdown",
   "metadata": {},
   "source": [
    "**[6]** A menudo, se puede utilizar una iteración de este tipo para resolver ecuaciones. \n",
    "\n",
    "(i) Inventa una iteración de la forma $x_{n+1} = f(x_n)$ para resolver la ecuación $x^2 + x - 1 = 0$. ¿Para cuáles $x_0$ funciona? ¿A cuál solución converge?\n",
    "\n",
    "(ii) Inventa otra. ¿Funciona para $x_0$ diferentes?\n",
    "\n",
    "(iii) Nota que hay algunas iteraciones que **no converjan**. Por ejemplo, ¿qué ocurre con la iteración $x_{n+1} = 1 - x_n^2$?"
   ]
  },
  {
   "cell_type": "code",
   "execution_count": 26,
   "metadata": {
    "scrolled": false
   },
   "outputs": [
    {
     "data": {
      "text/html": [],
      "text/plain": [
       "Interact.Options{:SelectionSlider,Int64}(9: \"input-3\" = 0 Int64 , \"x0\", 0, \"0\", Interact.OptionDict(DataStructures.OrderedDict(\"-20\"=>-20,\"-18\"=>-18,\"-16\"=>-16,\"-14\"=>-14,\"-12\"=>-12,\"-10\"=>-10,\"-8\"=>-8,\"-6\"=>-6,\"-4\"=>-4,\"-2\"=>-2…), Dict(-16=>\"-16\",2=>\"2\",16=>\"16\",0=>\"0\",-20=>\"-20\",-4=>\"-4\",10=>\"10\",8=>\"8\",6=>\"6\",-6=>\"-6\"…)), Any[], Any[], true, \"horizontal\")"
      ]
     },
     "metadata": {},
     "output_type": "display_data"
    },
    {
     "data": {
      "text/html": [
       "<script src=\"/Users/uzielnmtz/.julia/v0.6/Plots/src/backends/../../deps/plotly-latest.min.js\"></script>    <div id=\"c6461f3f-da94-4ce1-bb82-c8721d09536c\" style=\"width:600px;height:400px;\"></div>\n",
       "    <script>\n",
       "    PLOT = document.getElementById('c6461f3f-da94-4ce1-bb82-c8721d09536c');\n",
       "    Plotly.plot(PLOT, [{\"showlegend\":true,\"mode\":\"markers\",\"xaxis\":\"x\",\"colorbar\":{\"title\":\"\"},\"marker\":{\"symbol\":\"circle\",\"color\":\"rgba(0, 154, 250, 1.000)\",\"line\":{\"color\":\"rgba(0, 0, 0, 1.000)\",\"width\":1},\"size\":8},\"y\":[null,null,null,null,null,null,null,null,null,null,null,null,null,null,null,null,null,null,null,null,null,null,null,null,null,null,null,null,null,null,null,null,null,null,null,null,null,null,null,null],\"type\":\"scatter\",\"name\":\"y1\",\"yaxis\":\"y\",\"x\":[1,2,3,4,5,6,7,8,9,10,11,12,13,14,15,16,17,18,19,20,21,22,23,24,25,26,27,28,29,30,31,32,33,34,35,36,37,38,39,40]}], {\"showlegend\":true,\"xaxis\":{\"gridwidth\":0.5,\"tickvals\":[0.0,10.0,20.0,30.0,40.0],\"ticks\":\"inside\",\"tickmode\":\"array\",\"domain\":[0.05100612423447069,0.9934383202099737],\"linecolor\":\"rgba(0, 0, 0, 1.000)\",\"showgrid\":true,\"title\":\"\",\"tickangle\":0,\"gridcolor\":\"rgba(0, 0, 0, 0.100)\",\"titlefont\":{\"color\":\"rgba(0, 0, 0, 1.000)\",\"family\":\"sans-serif\",\"size\":15},\"tickcolor\":\"rgba(0, 0, 0, 1.000)\",\"ticktext\":[\"0\",\"10\",\"20\",\"30\",\"40\"],\"zeroline\":false,\"type\":\"-\",\"tickfont\":{\"color\":\"rgba(0, 0, 0, 1.000)\",\"family\":\"sans-serif\",\"size\":11},\"anchor\":\"y\"},\"paper_bgcolor\":\"rgba(255, 255, 255, 1.000)\",\"annotations\":[],\"height\":400,\"margin\":{\"l\":0,\"b\":20,\"r\":0,\"t\":20},\"plot_bgcolor\":\"rgba(255, 255, 255, 1.000)\",\"yaxis\":{\"gridwidth\":0.5,\"tickvals\":[0.0,0.5,1.0],\"ticks\":\"inside\",\"tickmode\":\"array\",\"domain\":[0.03762029746281716,0.9901574803149606],\"linecolor\":\"rgba(0, 0, 0, 1.000)\",\"showgrid\":true,\"title\":\"\",\"tickangle\":0,\"gridcolor\":\"rgba(0, 0, 0, 0.100)\",\"titlefont\":{\"color\":\"rgba(0, 0, 0, 1.000)\",\"family\":\"sans-serif\",\"size\":15},\"tickcolor\":\"rgba(0, 0, 0, 1.000)\",\"ticktext\":[\"0.0\",\"0.5\",\"1.0\"],\"zeroline\":false,\"type\":\"-\",\"tickfont\":{\"color\":\"rgba(0, 0, 0, 1.000)\",\"family\":\"sans-serif\",\"size\":11},\"anchor\":\"x\"},\"legend\":{\"bordercolor\":\"rgba(0, 0, 0, 1.000)\",\"bgcolor\":\"rgba(255, 255, 255, 1.000)\",\"font\":{\"color\":\"rgba(0, 0, 0, 1.000)\",\"family\":\"sans-serif\",\"size\":11},\"y\":1.0,\"x\":1.0},\"width\":600});\n",
       "    </script>\n"
      ]
     },
     "execution_count": 26,
     "metadata": {
      "comm_id": "d9178c37-5ce3-47c9-a343-5ccce2e79a98",
      "reactive": true
     },
     "output_type": "execute_result"
    }
   ],
   "source": [
    "@manipulate for x0=-20:2:20\n",
    "    scatter(iterar3(x -> (x + 1/x) / 2 - 1/2, 40, x0))\n",
    "end"
   ]
  },
  {
   "cell_type": "markdown",
   "metadata": {},
   "source": [
    "En este caso la iteración no converge para $x_0 = 0$ debido a una indeterminación en la iteración.\n",
    "\n",
    "Dependiendo de donde esté el \"guess\" converge a la raíz positiva o negativa de la ecuación."
   ]
  },
  {
   "cell_type": "code",
   "execution_count": 28,
   "metadata": {
    "scrolled": false
   },
   "outputs": [
    {
     "data": {
      "text/html": [],
      "text/plain": [
       "Interact.Options{:SelectionSlider,Int64}(15: \"input-5\" = 0 Int64 , \"x0\", 0, \"0\", Interact.OptionDict(DataStructures.OrderedDict(\"-20\"=>-20,\"-18\"=>-18,\"-16\"=>-16,\"-14\"=>-14,\"-12\"=>-12,\"-10\"=>-10,\"-8\"=>-8,\"-6\"=>-6,\"-4\"=>-4,\"-2\"=>-2…), Dict(-16=>\"-16\",2=>\"2\",16=>\"16\",0=>\"0\",-20=>\"-20\",-4=>\"-4\",10=>\"10\",8=>\"8\",6=>\"6\",-6=>\"-6\"…)), Any[], Any[], true, \"horizontal\")"
      ]
     },
     "metadata": {},
     "output_type": "display_data"
    },
    {
     "data": {
      "text/html": [
       "<script src=\"/Users/uzielnmtz/.julia/v0.6/Plots/src/backends/../../deps/plotly-latest.min.js\"></script>    <div id=\"94311141-2dc9-44a8-a1ce-e79ec7571800\" style=\"width:600px;height:400px;\"></div>\n",
       "    <script>\n",
       "    PLOT = document.getElementById('94311141-2dc9-44a8-a1ce-e79ec7571800');\n",
       "    Plotly.plot(PLOT, [{\"showlegend\":true,\"mode\":\"markers\",\"xaxis\":\"x\",\"colorbar\":{\"title\":\"\"},\"marker\":{\"symbol\":\"circle\",\"color\":\"rgba(0, 154, 250, 1.000)\",\"line\":{\"color\":\"rgba(0, 0, 0, 1.000)\",\"width\":1},\"size\":8},\"y\":[0.5,0.625,0.6171875,0.618133544921875,0.6180222327820957,0.6180353762845644,0.6180338249726807,0.6180340080811593,0.6180339864681484,0.6180339890192185,0.6180339887181054,0.618033988753647,0.6180339887494519,0.6180339887499471,0.6180339887498887,0.6180339887498956,0.6180339887498948,0.6180339887498949,0.6180339887498949,0.6180339887498949,0.6180339887498949,0.6180339887498949,0.6180339887498949,0.6180339887498949,0.6180339887498949,0.6180339887498949,0.6180339887498949,0.6180339887498949,0.6180339887498949,0.6180339887498949,0.6180339887498949,0.6180339887498949,0.6180339887498949,0.6180339887498949,0.6180339887498949,0.6180339887498949,0.6180339887498949,0.6180339887498949,0.6180339887498949,0.6180339887498949],\"type\":\"scatter\",\"name\":\"y1\",\"yaxis\":\"y\",\"x\":[1,2,3,4,5,6,7,8,9,10,11,12,13,14,15,16,17,18,19,20,21,22,23,24,25,26,27,28,29,30,31,32,33,34,35,36,37,38,39,40]}], {\"showlegend\":true,\"xaxis\":{\"gridwidth\":0.5,\"tickvals\":[0.0,10.0,20.0,30.0,40.0],\"ticks\":\"inside\",\"tickmode\":\"array\",\"domain\":[0.0658209390492855,0.9934383202099738],\"linecolor\":\"rgba(0, 0, 0, 1.000)\",\"showgrid\":true,\"title\":\"\",\"tickangle\":0,\"gridcolor\":\"rgba(0, 0, 0, 0.100)\",\"titlefont\":{\"color\":\"rgba(0, 0, 0, 1.000)\",\"family\":\"sans-serif\",\"size\":15},\"tickcolor\":\"rgba(0, 0, 0, 1.000)\",\"ticktext\":[\"0\",\"10\",\"20\",\"30\",\"40\"],\"zeroline\":false,\"type\":\"-\",\"tickfont\":{\"color\":\"rgba(0, 0, 0, 1.000)\",\"family\":\"sans-serif\",\"size\":11},\"anchor\":\"y\"},\"paper_bgcolor\":\"rgba(255, 255, 255, 1.000)\",\"annotations\":[],\"height\":400,\"margin\":{\"l\":0,\"b\":20,\"r\":0,\"t\":20},\"plot_bgcolor\":\"rgba(255, 255, 255, 1.000)\",\"yaxis\":{\"gridwidth\":0.5,\"tickvals\":[0.5,0.55,0.6000000000000001],\"ticks\":\"inside\",\"tickmode\":\"array\",\"domain\":[0.03762029746281716,0.9901574803149606],\"linecolor\":\"rgba(0, 0, 0, 1.000)\",\"showgrid\":true,\"title\":\"\",\"tickangle\":0,\"gridcolor\":\"rgba(0, 0, 0, 0.100)\",\"titlefont\":{\"color\":\"rgba(0, 0, 0, 1.000)\",\"family\":\"sans-serif\",\"size\":15},\"tickcolor\":\"rgba(0, 0, 0, 1.000)\",\"ticktext\":[\"0.50\",\"0.55\",\"0.60\"],\"zeroline\":false,\"type\":\"-\",\"tickfont\":{\"color\":\"rgba(0, 0, 0, 1.000)\",\"family\":\"sans-serif\",\"size\":11},\"anchor\":\"x\"},\"legend\":{\"bordercolor\":\"rgba(0, 0, 0, 1.000)\",\"bgcolor\":\"rgba(255, 255, 255, 1.000)\",\"font\":{\"color\":\"rgba(0, 0, 0, 1.000)\",\"family\":\"sans-serif\",\"size\":11},\"y\":1.0,\"x\":1.0},\"width\":600});\n",
       "    </script>\n"
      ]
     },
     "execution_count": 28,
     "metadata": {
      "comm_id": "02d869af-8fbe-47a6-a203-6aadb8dbd47f",
      "reactive": true
     },
     "output_type": "execute_result"
    }
   ],
   "source": [
    "@manipulate for x0=-20:2:20\n",
    "    scatter(iterar3(x -> (x - x^2) / 2 + 1 / 2, 40, x0))\n",
    "end"
   ]
  },
  {
   "cell_type": "markdown",
   "metadata": {},
   "source": [
    "Para esta iteración sólo converge para $x_0$ entre 0 y 2."
   ]
  },
  {
   "cell_type": "code",
   "execution_count": 29,
   "metadata": {},
   "outputs": [
    {
     "data": {
      "text/html": [],
      "text/plain": [
       "Interact.Options{:SelectionSlider,Int64}(19: \"input-6\" = 0 Int64 , \"x0\", 0, \"0\", Interact.OptionDict(DataStructures.OrderedDict(\"-20\"=>-20,\"-18\"=>-18,\"-16\"=>-16,\"-14\"=>-14,\"-12\"=>-12,\"-10\"=>-10,\"-8\"=>-8,\"-6\"=>-6,\"-4\"=>-4,\"-2\"=>-2…), Dict(-16=>\"-16\",2=>\"2\",16=>\"16\",0=>\"0\",-20=>\"-20\",-4=>\"-4\",10=>\"10\",8=>\"8\",6=>\"6\",-6=>\"-6\"…)), Any[], Any[], true, \"horizontal\")"
      ]
     },
     "metadata": {},
     "output_type": "display_data"
    },
    {
     "data": {
      "text/html": [
       "<script src=\"/Users/uzielnmtz/.julia/v0.6/Plots/src/backends/../../deps/plotly-latest.min.js\"></script>    <div id=\"a198c152-4170-47df-a6ed-af38e43f8fee\" style=\"width:600px;height:400px;\"></div>\n",
       "    <script>\n",
       "    PLOT = document.getElementById('a198c152-4170-47df-a6ed-af38e43f8fee');\n",
       "    Plotly.plot(PLOT, [{\"showlegend\":true,\"mode\":\"markers\",\"xaxis\":\"x\",\"colorbar\":{\"title\":\"\"},\"marker\":{\"symbol\":\"circle\",\"color\":\"rgba(0, 154, 250, 1.000)\",\"line\":{\"color\":\"rgba(0, 0, 0, 1.000)\",\"width\":1},\"size\":8},\"y\":[1.0,0.0,1.0,0.0,1.0,0.0,1.0,0.0,1.0,0.0,1.0,0.0,1.0,0.0,1.0,0.0,1.0,0.0,1.0,0.0,1.0,0.0,1.0,0.0,1.0,0.0,1.0,0.0,1.0,0.0,1.0,0.0,1.0,0.0,1.0,0.0,1.0,0.0,1.0,0.0],\"type\":\"scatter\",\"name\":\"y1\",\"yaxis\":\"y\",\"x\":[1,2,3,4,5,6,7,8,9,10,11,12,13,14,15,16,17,18,19,20,21,22,23,24,25,26,27,28,29,30,31,32,33,34,35,36,37,38,39,40]}], {\"showlegend\":true,\"xaxis\":{\"gridwidth\":0.5,\"tickvals\":[0.0,10.0,20.0,30.0,40.0],\"ticks\":\"inside\",\"tickmode\":\"array\",\"domain\":[0.05100612423447069,0.9934383202099737],\"linecolor\":\"rgba(0, 0, 0, 1.000)\",\"showgrid\":true,\"title\":\"\",\"tickangle\":0,\"gridcolor\":\"rgba(0, 0, 0, 0.100)\",\"titlefont\":{\"color\":\"rgba(0, 0, 0, 1.000)\",\"family\":\"sans-serif\",\"size\":15},\"tickcolor\":\"rgba(0, 0, 0, 1.000)\",\"ticktext\":[\"0\",\"10\",\"20\",\"30\",\"40\"],\"zeroline\":false,\"type\":\"-\",\"tickfont\":{\"color\":\"rgba(0, 0, 0, 1.000)\",\"family\":\"sans-serif\",\"size\":11},\"anchor\":\"y\"},\"paper_bgcolor\":\"rgba(255, 255, 255, 1.000)\",\"annotations\":[],\"height\":400,\"margin\":{\"l\":0,\"b\":20,\"r\":0,\"t\":20},\"plot_bgcolor\":\"rgba(255, 255, 255, 1.000)\",\"yaxis\":{\"gridwidth\":0.5,\"tickvals\":[0.0,0.5,1.0],\"ticks\":\"inside\",\"tickmode\":\"array\",\"domain\":[0.03762029746281716,0.9901574803149606],\"linecolor\":\"rgba(0, 0, 0, 1.000)\",\"showgrid\":true,\"title\":\"\",\"tickangle\":0,\"gridcolor\":\"rgba(0, 0, 0, 0.100)\",\"titlefont\":{\"color\":\"rgba(0, 0, 0, 1.000)\",\"family\":\"sans-serif\",\"size\":15},\"tickcolor\":\"rgba(0, 0, 0, 1.000)\",\"ticktext\":[\"0.0\",\"0.5\",\"1.0\"],\"zeroline\":false,\"type\":\"-\",\"tickfont\":{\"color\":\"rgba(0, 0, 0, 1.000)\",\"family\":\"sans-serif\",\"size\":11},\"anchor\":\"x\"},\"legend\":{\"bordercolor\":\"rgba(0, 0, 0, 1.000)\",\"bgcolor\":\"rgba(255, 255, 255, 1.000)\",\"font\":{\"color\":\"rgba(0, 0, 0, 1.000)\",\"family\":\"sans-serif\",\"size\":11},\"y\":1.0,\"x\":1.0},\"width\":600});\n",
       "    </script>\n"
      ]
     },
     "execution_count": 29,
     "metadata": {
      "comm_id": "9f878da8-8c12-4917-8b76-0d5c4da89948",
      "reactive": true
     },
     "output_type": "execute_result"
    }
   ],
   "source": [
    "@manipulate for x0 = -20:2:20\n",
    "    scatter(iterar3(x -> 1 - x^2, 40, x0))\n",
    "end"
   ]
  },
  {
   "cell_type": "markdown",
   "metadata": {},
   "source": [
    "## Bucles `while`"
   ]
  },
  {
   "cell_type": "markdown",
   "metadata": {},
   "source": [
    "En lo anterior, usamos un bucle `for`, que requiere que sepamos de antemano el número de iteraciones que queramos.\n",
    "Sin embargo, en este tipo de problemas, es más natural esperar **hasta que** converja, sin saber cuánto tiempo tomará.\n",
    "\n",
    "Para esto, podemos ocupar otro tipo de bucle, un bucle `while` (\"mientras\", en español). Un bucle de este tipo repite los comandos en el cuerpo del bucle **mientras** una condición siga cierta. Su sintaxis es como sigue:"
   ]
  },
  {
   "cell_type": "markdown",
   "metadata": {},
   "source": [
    "```\n",
    "while <condicion>\n",
    "    [haz esto]\n",
    "    [y esto]\n",
    "end\n",
    "```\n",
    "\n",
    "Sin embargo, para evitar bucles infinitos, a menudo es sensato incluir un contador para que no pueda haber demasiadas (posiblemente infinitas) iteraciones."
   ]
  },
  {
   "cell_type": "markdown",
   "metadata": {},
   "source": [
    "Mientras que en un bucle `for` hay un contador que se actualiza automáticamente, en un bucle `while` **nosotros somos los responsables** de tener una variable que actúe como contador."
   ]
  },
  {
   "cell_type": "markdown",
   "metadata": {},
   "source": [
    "**[7]** (i) Utilice un bucle `while` para contar de 1 a 10.\n",
    "\n",
    "(ii) Utilice un bucle `while` para encontrar la potencia de 2 más grande debajo de un número dado.\n",
    "\n",
    "(iii) Repite lo mismo con un bucle `for`, usando la palabra clave `break` para salir del bucle cuando una cierta condición se satisfaga."
   ]
  },
  {
   "cell_type": "code",
   "execution_count": 30,
   "metadata": {},
   "outputs": [
    {
     "name": "stdout",
     "output_type": "stream",
     "text": [
      "i = 0\n",
      "i = 1\n",
      "i = 2\n",
      "i = 3\n",
      "i = 4\n",
      "i = 5\n",
      "i = 6\n",
      "i = 7\n",
      "i = 8\n",
      "i = 9\n",
      "i = 10\n"
     ]
    }
   ],
   "source": [
    "i = 0\n",
    "while i <= 10\n",
    "    @show i\n",
    "    i += 1\n",
    "end"
   ]
  },
  {
   "cell_type": "code",
   "execution_count": 31,
   "metadata": {},
   "outputs": [
    {
     "name": "stdout",
     "output_type": "stream",
     "text": [
      "potencia = 9\n"
     ]
    },
    {
     "data": {
      "text/plain": [
       "9"
      ]
     },
     "execution_count": 31,
     "metadata": {},
     "output_type": "execute_result"
    }
   ],
   "source": [
    "n = 10\n",
    "i = 0\n",
    "potencia = 1\n",
    "while i <= n\n",
    "    if isinteger(sqrt(i))\n",
    "        potencia = i\n",
    "    end\n",
    "    i += 1\n",
    "end\n",
    "@show potencia"
   ]
  },
  {
   "cell_type": "code",
   "execution_count": 32,
   "metadata": {},
   "outputs": [
    {
     "name": "stdout",
     "output_type": "stream",
     "text": [
      "potencia = 9\n"
     ]
    },
    {
     "data": {
      "text/plain": [
       "9"
      ]
     },
     "execution_count": 32,
     "metadata": {},
     "output_type": "execute_result"
    }
   ],
   "source": [
    "potencia = 1\n",
    "for i in 1:20\n",
    "    if isinteger(sqrt(i))\n",
    "        potencia = i\n",
    "    end\n",
    "    if i == 10\n",
    "        break\n",
    "    end\n",
    "end\n",
    "@show potencia\n",
    "    "
   ]
  },
  {
   "cell_type": "markdown",
   "metadata": {},
   "source": [
    "## Bucles while e iteraciones de punto fijo"
   ]
  },
  {
   "cell_type": "markdown",
   "metadata": {},
   "source": [
    "**[8]** Utiliza un bucle `while` para la iteración de la función $f_1$. Fija una **tolerancia** razonable, y repite la iteración **hasta que** la distancia entre un iterado y el siguiente sea menor a la tolerancia. [Pista: ¿Cuál función matemática da la distancia entre dos números en una dimensión. Encuentra la función de Julia que lo hace.] \n",
    "\n",
    "**[9]** De la misma forma, escribe una versión nueva de la función `iterar`, que utiliza un `while` y acepta una tolerancia como argumento."
   ]
  },
  {
   "cell_type": "code",
   "execution_count": 33,
   "metadata": {},
   "outputs": [
    {
     "name": "stdout",
     "output_type": "stream",
     "text": [
      "(x0, n) = (-2.0, 56)\n"
     ]
    },
    {
     "data": {
      "text/plain": [
       "(-2.0, 56)"
      ]
     },
     "execution_count": 33,
     "metadata": {},
     "output_type": "execute_result"
    }
   ],
   "source": [
    "ϵ = 0.0000000000000000001\n",
    "err = 1\n",
    "f1(x) = x/2 - 1\n",
    "x0 = 1\n",
    "n = 0\n",
    "while ϵ <= err\n",
    "    x = x0\n",
    "    x0 = f1(x0)\n",
    "    err = norm(x-x0)\n",
    "    n += 1\n",
    "end\n",
    "@show x0, n\n",
    "    \n",
    "    "
   ]
  },
  {
   "cell_type": "code",
   "execution_count": 34,
   "metadata": {},
   "outputs": [
    {
     "data": {
      "text/plain": [
       "iterar (generic function with 1 method)"
      ]
     },
     "execution_count": 34,
     "metadata": {},
     "output_type": "execute_result"
    }
   ],
   "source": [
    "function iterar(f, ϵ, x0)\n",
    "    err = 1\n",
    "    n = 0\n",
    "    iters = Float64[]\n",
    "    numiters= []\n",
    "    while ϵ <= err\n",
    "        n += 1\n",
    "        x = x0\n",
    "        x0 = f(x0)\n",
    "        err = norm(x-x0)\n",
    "        push!(iters, x)\n",
    "        push!(numiters, n)\n",
    "    end\n",
    "    return [numiters iters]\n",
    "end"
   ]
  },
  {
   "cell_type": "markdown",
   "metadata": {},
   "source": [
    "## Haz tu propia biblioteca "
   ]
  },
  {
   "cell_type": "markdown",
   "metadata": {},
   "source": [
    "Guarda la función `iterar` en un archivo que se llama `herramientas.jl`. Iremos agregando más métodos a este archivo.\n",
    "\n",
    "Se incluye en un notebook o un script de Julia con `include(\"herramientas.jl\")`."
   ]
  }
 ],
 "metadata": {
  "kernelspec": {
   "display_name": "Julia 0.6.0",
   "language": "julia",
   "name": "julia-0.6"
  },
  "language_info": {
   "file_extension": ".jl",
   "mimetype": "application/julia",
   "name": "julia",
   "version": "0.6.0"
  }
 },
 "nbformat": 4,
 "nbformat_minor": 2
}
